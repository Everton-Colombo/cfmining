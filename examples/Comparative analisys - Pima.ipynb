{
 "cells": [
  {
   "cell_type": "code",
   "execution_count": 1,
   "metadata": {},
   "outputs": [
    {
     "name": "stdout",
     "output_type": "stream",
     "text": [
      "Using Python-MIP package version 1.7.2\n"
     ]
    }
   ],
   "source": [
    "import os\n",
    "import time\n",
    "import pandas as pd\n",
    "import numpy as np\n",
    "from tqdm import tqdm\n",
    "import copy\n",
    "\n",
    "from sklearn import preprocessing, pipeline\n",
    "from sklearn.linear_model import LogisticRegression\n",
    "from sklearn.model_selection import GridSearchCV\n",
    "from sklearn.model_selection import train_test_split\n",
    "from sklearn.metrics import roc_auc_score\n",
    "\n",
    "from cfmining.mip_algorithms import LinearRecourseActions, LinearRecourseActionsMulti\n",
    "from cfmining.algorithms import MAPOCAM, BruteForce, Greedy\n",
    "from cfmining.criteria import PercentileCalculator, PercentileCriterion, PercentileChangesCriterion, NonDomCriterion\n",
    "from cfmining.predictors import MonotoneClassifier, GeneralClassifier, TreeClassifier, LinearClassifier\n",
    "from cfmining.action_set import ActionSet\n",
    "\n",
    "from results import save_result"
   ]
  },
  {
   "cell_type": "code",
   "execution_count": 2,
   "metadata": {},
   "outputs": [],
   "source": [
    "%load_ext autoreload\n",
    "%autoreload 2\n",
    "%load_ext line_profiler"
   ]
  },
  {
   "cell_type": "markdown",
   "metadata": {},
   "source": [
    "## Preparing dataset"
   ]
  },
  {
   "cell_type": "code",
   "execution_count": 3,
   "metadata": {},
   "outputs": [
    {
     "data": {
      "text/html": [
       "<div>\n",
       "<style scoped>\n",
       "    .dataframe tbody tr th:only-of-type {\n",
       "        vertical-align: middle;\n",
       "    }\n",
       "\n",
       "    .dataframe tbody tr th {\n",
       "        vertical-align: top;\n",
       "    }\n",
       "\n",
       "    .dataframe thead th {\n",
       "        text-align: right;\n",
       "    }\n",
       "</style>\n",
       "<table border=\"1\" class=\"dataframe\">\n",
       "  <thead>\n",
       "    <tr style=\"text-align: right;\">\n",
       "      <th></th>\n",
       "      <th>Pregnancies</th>\n",
       "      <th>Glucose</th>\n",
       "      <th>BloodPressure</th>\n",
       "      <th>SkinThickness</th>\n",
       "      <th>Insulin</th>\n",
       "      <th>BMI</th>\n",
       "      <th>DiabetesPedigreeFunction</th>\n",
       "      <th>Age</th>\n",
       "      <th>Diabetes</th>\n",
       "    </tr>\n",
       "  </thead>\n",
       "  <tbody>\n",
       "    <tr>\n",
       "      <th>0</th>\n",
       "      <td>6</td>\n",
       "      <td>148</td>\n",
       "      <td>72</td>\n",
       "      <td>35</td>\n",
       "      <td>0</td>\n",
       "      <td>33</td>\n",
       "      <td>0.627</td>\n",
       "      <td>50</td>\n",
       "      <td>1</td>\n",
       "    </tr>\n",
       "    <tr>\n",
       "      <th>1</th>\n",
       "      <td>1</td>\n",
       "      <td>85</td>\n",
       "      <td>66</td>\n",
       "      <td>29</td>\n",
       "      <td>0</td>\n",
       "      <td>26</td>\n",
       "      <td>0.351</td>\n",
       "      <td>31</td>\n",
       "      <td>0</td>\n",
       "    </tr>\n",
       "    <tr>\n",
       "      <th>2</th>\n",
       "      <td>8</td>\n",
       "      <td>183</td>\n",
       "      <td>64</td>\n",
       "      <td>0</td>\n",
       "      <td>0</td>\n",
       "      <td>23</td>\n",
       "      <td>0.672</td>\n",
       "      <td>32</td>\n",
       "      <td>1</td>\n",
       "    </tr>\n",
       "    <tr>\n",
       "      <th>3</th>\n",
       "      <td>1</td>\n",
       "      <td>89</td>\n",
       "      <td>66</td>\n",
       "      <td>23</td>\n",
       "      <td>94</td>\n",
       "      <td>28</td>\n",
       "      <td>0.167</td>\n",
       "      <td>21</td>\n",
       "      <td>0</td>\n",
       "    </tr>\n",
       "    <tr>\n",
       "      <th>4</th>\n",
       "      <td>0</td>\n",
       "      <td>137</td>\n",
       "      <td>40</td>\n",
       "      <td>35</td>\n",
       "      <td>168</td>\n",
       "      <td>43</td>\n",
       "      <td>2.288</td>\n",
       "      <td>33</td>\n",
       "      <td>1</td>\n",
       "    </tr>\n",
       "  </tbody>\n",
       "</table>\n",
       "</div>"
      ],
      "text/plain": [
       "   Pregnancies  Glucose  BloodPressure  SkinThickness  Insulin  BMI  \\\n",
       "0            6      148             72             35        0   33   \n",
       "1            1       85             66             29        0   26   \n",
       "2            8      183             64              0        0   23   \n",
       "3            1       89             66             23       94   28   \n",
       "4            0      137             40             35      168   43   \n",
       "\n",
       "   DiabetesPedigreeFunction  Age  Diabetes  \n",
       "0                     0.627   50         1  \n",
       "1                     0.351   31         0  \n",
       "2                     0.672   32         1  \n",
       "3                     0.167   21         0  \n",
       "4                     2.288   33         1  "
      ]
     },
     "execution_count": 3,
     "metadata": {},
     "output_type": "execute_result"
    }
   ],
   "source": [
    "cols = ['Pregnancies', 'Glucose', 'BloodPressure', 'SkinThickness', 'Insulin', 'BMI', 'DiabetesPedigreeFunction', 'Age', 'Diabetes']\n",
    "\n",
    "pima_df = pd.read_csv('data/pima/pima-indians-diabetes.data.csv', header=None)\n",
    "pima_df.columns = cols\n",
    "pima_df = pima_df.astype({'BMI': 'int32'})\n",
    "y = 1-pima_df['Diabetes']\n",
    "X = pima_df.drop('Diabetes', axis=1)\n",
    "pima_df.head()"
   ]
  },
  {
   "cell_type": "code",
   "execution_count": 4,
   "metadata": {},
   "outputs": [],
   "source": [
    "Xtr, Xts, ytr, yts = train_test_split(X, y, test_size=100)"
   ]
  },
  {
   "cell_type": "markdown",
   "metadata": {},
   "source": [
    "## Setting ActionSet base parameters"
   ]
  },
  {
   "cell_type": "code",
   "execution_count": 5,
   "metadata": {},
   "outputs": [],
   "source": [
    "action_set_base = ActionSet(X = X)\n",
    "for feat in action_set_base:\n",
    "    if feat.name in ['Pregnancies', 'MonthlyIncome', 'Age']:\n",
    "        feat.mutable = False\n",
    "        feat.step_direction = -1\n",
    "    if feat.name in ['NumberOfDependents']:\n",
    "        feat.mutable = False\n",
    "        #feat.flip_direction = 1\n",
    "        feat.step_direction = 1\n",
    "    if feat.name in ['Glucose', 'BloodPressure', 'SkinThickness', 'Insulin', 'BMI']:\n",
    "        feat.mutable = True\n",
    "        #feat.flip_direction = -1\n",
    "        feat.step_direction = -1\n",
    "    if feat.name in ['DiabetesPedigreeFunction']:\n",
    "        feat.mutable = True\n",
    "        #feat.flip_direction = -1\n",
    "        feat.step_direction = 1\n",
    "    feat.step_size = 0.1\n",
    "    feat.update_grid()"
   ]
  },
  {
   "cell_type": "markdown",
   "metadata": {},
   "source": [
    "## Logistic regression model"
   ]
  },
  {
   "cell_type": "code",
   "execution_count": 6,
   "metadata": {},
   "outputs": [],
   "source": [
    "stand = preprocessing.StandardScaler()\n",
    "clf_base = LogisticRegression(max_iter=1000, class_weight='balanced')\n",
    "clf = pipeline.Pipeline([('std', stand), ('clf', clf_base)])\n",
    "\n",
    "grid = GridSearchCV(\n",
    "  clf, param_grid={'clf__C': np.logspace(-4, 3)},\n",
    "  cv=5,\n",
    "  scoring='roc_auc',\n",
    "  verbose=0\n",
    ")\n",
    "\n",
    "grid.fit(Xtr, ytr)\n",
    "clf_lgr = grid.best_estimator_"
   ]
  },
  {
   "cell_type": "code",
   "execution_count": 7,
   "metadata": {},
   "outputs": [],
   "source": [
    "threshold = 0.5\n",
    "scores = pd.Series(clf_lgr.predict_proba(Xts)[:, 1])\n",
    "denied_individuals = scores.loc[lambda s: s < threshold].index"
   ]
  },
  {
   "cell_type": "code",
   "execution_count": 8,
   "metadata": {},
   "outputs": [
    {
     "name": "stderr",
     "output_type": "stream",
     "text": [
      "/home/marcos/Documents/Experiments/envs/mapocam/lib/python3.7/site-packages/sklearn/utils/deprecation.py:144: FutureWarning: The sklearn.metrics.scorer module is  deprecated in version 0.22 and will be removed in version 0.24. The corresponding classes / functions should instead be imported from sklearn.metrics. Anything that cannot be imported from sklearn.metrics is now part of the private API.\n",
      "  warnings.warn(message, FutureWarning)\n",
      "/home/marcos/Documents/Experiments/envs/mapocam/lib/python3.7/site-packages/sklearn/utils/deprecation.py:144: FutureWarning: The sklearn.feature_selection.base module is  deprecated in version 0.22 and will be removed in version 0.24. The corresponding classes / functions should instead be imported from sklearn.feature_selection. Anything that cannot be imported from sklearn.feature_selection is now part of the private API.\n",
      "  warnings.warn(message, FutureWarning)\n"
     ]
    }
   ],
   "source": [
    "clf_lgr_mapocam = MonotoneClassifier(clf_lgr, X=Xtr, y=ytr, threshold=threshold)\n",
    "coefficients = clf_lgr['clf'].coef_[0]/clf_lgr['std'].scale_\n",
    "intercept = clf_lgr['clf'].intercept_[0]-coefficients@clf_lgr['std'].mean_"
   ]
  },
  {
   "cell_type": "markdown",
   "metadata": {},
   "source": [
    "## Preparing counterfactual parameters"
   ]
  },
  {
   "cell_type": "code",
   "execution_count": 9,
   "metadata": {},
   "outputs": [
    {
     "name": "stdout",
     "output_type": "stream",
     "text": [
      "ActionSet stats\n",
      "Number of actionable features: 6\n",
      "Mean number of actions per feature: 10.666666666666666\n",
      "Max number of actions per feature: 11.0\n"
     ]
    }
   ],
   "source": [
    "action_set = copy.deepcopy(action_set_base)\n",
    "\n",
    "print('ActionSet stats')\n",
    "print('Number of actionable features:', sum([action.actionable for action in action_set]))\n",
    "print('Mean number of actions per feature:', np.nanmean([len(action._grid) if action.actionable else np.nan for action in action_set]))\n",
    "print('Max number of actions per feature:', np.nanmax([len(action._grid) if action.actionable else np.nan for action in action_set]))"
   ]
  },
  {
   "cell_type": "code",
   "execution_count": 10,
   "metadata": {},
   "outputs": [],
   "source": [
    "percCalc = PercentileCalculator(action_set=action_set)"
   ]
  },
  {
   "cell_type": "markdown",
   "metadata": {},
   "source": [
    "## Linear programming"
   ]
  },
  {
   "cell_type": "code",
   "execution_count": 11,
   "metadata": {},
   "outputs": [
    {
     "name": "stderr",
     "output_type": "stream",
     "text": [
      "100%|██████████| 44/44 [00:01<00:00, 33.65it/s]\n"
     ]
    }
   ],
   "source": [
    "lp_lgr_results = {}\n",
    "for i in tqdm(denied_individuals):\n",
    "    individual = Xts.iloc[i].values\n",
    "    criteria = PercentileCriterion(individual, percCalc)\n",
    "    \n",
    "    start = time.perf_counter()\n",
    "    lp = LinearRecourseActions(action_set, individual, coefficients, intercept, threshold)\n",
    "    lp.fit()\n",
    "    lp_time = time.perf_counter()-start\n",
    "    \n",
    "    lp_lgr_results[i] = {}\n",
    "    lp_lgr_results[i]['enum'] = lp\n",
    "    lp_lgr_results[i]['indiv'] = individual\n",
    "    lp_lgr_results[i]['solution'] = [int(s) if act.variable_type=='int' else float(s) for s, act in zip(lp.solution, action_set)]\n",
    "    lp_lgr_results[i]['stats'] = lp.stats\n",
    "    lp_lgr_results[i]['recourse'] = lp.recourse\n",
    "    lp_lgr_results[i]['time'] = lp_time\n",
    "    lp_lgr_results[i]['cost'] = criteria.f(lp_lgr_results[i]['solution']) if ~any(np.isnan(lp_lgr_results[i]['solution'])) else float('inf')"
   ]
  },
  {
   "cell_type": "markdown",
   "metadata": {},
   "source": [
    "## Greedy approach"
   ]
  },
  {
   "cell_type": "code",
   "execution_count": 12,
   "metadata": {},
   "outputs": [
    {
     "name": "stderr",
     "output_type": "stream",
     "text": [
      "100%|██████████| 44/44 [00:02<00:00, 18.23it/s]\n"
     ]
    }
   ],
   "source": [
    "greedy_lgr_results = {}\n",
    "for i in tqdm(denied_individuals):\n",
    "    individual = Xts.iloc[i].values\n",
    "    criteria = PercentileCriterion(individual, percCalc)\n",
    "    \n",
    "    start = time.perf_counter()\n",
    "    greedy = Greedy(action_set, individual, clf_lgr_mapocam, criteria)\n",
    "    greedy.fit()\n",
    "    greedy_time = time.perf_counter()-start\n",
    "    \n",
    "    greedy_lgr_results[i] = {}\n",
    "    greedy_lgr_results[i]['solution'] = greedy.solution\n",
    "    greedy_lgr_results[i]['time'] = greedy_time\n",
    "    greedy_lgr_results[i]['cost'] = criteria.f(greedy.solution) if greedy.solution is not None else float('inf')"
   ]
  },
  {
   "cell_type": "markdown",
   "metadata": {},
   "source": [
    "## MAPOCAM"
   ]
  },
  {
   "cell_type": "code",
   "execution_count": 13,
   "metadata": {},
   "outputs": [
    {
     "name": "stderr",
     "output_type": "stream",
     "text": [
      "100%|██████████| 44/44 [00:01<00:00, 29.97it/s]\n"
     ]
    }
   ],
   "source": [
    "mapocam_lgr_results = {}\n",
    "for i in tqdm(denied_individuals):\n",
    "    individual = Xts.iloc[i].values\n",
    "    criteria = PercentileCriterion(individual, percCalc)\n",
    "    \n",
    "    start = time.perf_counter()\n",
    "    mapocam = MAPOCAM(action_set, individual, clf_lgr_mapocam, max_changes=float('inf'), compare=criteria)\n",
    "    mapocam.fit()\n",
    "    mapocam_time = time.perf_counter()-start\n",
    "    \n",
    "    mapocam_lgr_results[i] = {}\n",
    "    mapocam_lgr_results[i]['enum'] = mapocam\n",
    "    mapocam_lgr_results[i]['solution'] = mapocam.solutions[0] if len(mapocam.solutions)>0 else None\n",
    "    mapocam_lgr_results[i]['time'] = mapocam_time\n",
    "    mapocam_lgr_results[i]['cost'] = criteria.f(mapocam.solutions[0])  if len(mapocam.solutions)>0 else float('inf')"
   ]
  },
  {
   "cell_type": "markdown",
   "metadata": {},
   "source": [
    "## Performance comparison for single objective\n"
   ]
  },
  {
   "cell_type": "code",
   "execution_count": 14,
   "metadata": {},
   "outputs": [],
   "source": [
    "lp_lgr_costs = np.array([lp_lgr_results[i]['cost'] for i in denied_individuals])\n",
    "greedy_lgr_costs = np.array([greedy_lgr_results[i]['cost'] for i in denied_individuals])\n",
    "mapocam_lgr_costs = np.array([mapocam_lgr_results[i]['cost'] for i in denied_individuals])\n",
    "\n",
    "lp_lgr_time = np.array([lp_lgr_results[i]['time'] for i in denied_individuals])\n",
    "greedy_lgr_time = np.array([greedy_lgr_results[i]['time'] for i in denied_individuals])\n",
    "mapocam_lgr_time = np.array([mapocam_lgr_results[i]['time'] for i in denied_individuals])\n",
    "\n",
    "best_costs = np.min([lp_lgr_costs, greedy_lgr_costs, mapocam_lgr_costs], axis=0)"
   ]
  },
  {
   "cell_type": "code",
   "execution_count": 15,
   "metadata": {},
   "outputs": [
    {
     "name": "stdout",
     "output_type": "stream",
     "text": [
      "Best solution rate:\n",
      "  MAPOCAM: 0.9772727272727273\n",
      "  greedy: 0.22727272727272727\n",
      "  mi-logistic: 0.9545454545454546\n",
      "Feasible rate: 1.0\n",
      "Time performance:\n",
      "  MAPOCAM: 0.03272788360746662\n",
      "  greedy: 0.05404977092720484\n",
      "  mi-logistic: 0.028006539701230147\n",
      "\n"
     ]
    }
   ],
   "source": [
    "lgr_dict = {'Time performance':\n",
    "            {\n",
    "                'MAPOCAM': float(np.mean(mapocam_lgr_time)),\n",
    "                'greedy': float(np.mean(greedy_lgr_time)),\n",
    "                'mi-logistic': float(np.mean(lp_lgr_time)),\n",
    "            },\n",
    "            'Best solution rate':\n",
    "           {\n",
    "               'MAPOCAM':float(np.mean(mapocam_lgr_costs==best_costs)),\n",
    "               'greedy': float(np.mean(greedy_lgr_costs==best_costs)),\n",
    "               'mi-logistic': float(np.mean(lp_lgr_costs==best_costs)),\n",
    "           },\n",
    "            'Feasible rate':1-float(np.mean(np.isnan(mapocam_lgr_costs)))\n",
    "    \n",
    "}\n",
    "save_result(lgr_dict, 'pima', 'logistic', 'MPC cost')"
   ]
  },
  {
   "cell_type": "markdown",
   "metadata": {},
   "source": [
    "## Comparing Pareto enumeration"
   ]
  },
  {
   "cell_type": "markdown",
   "metadata": {},
   "source": [
    "## Percentile vs changes"
   ]
  },
  {
   "cell_type": "code",
   "execution_count": 16,
   "metadata": {},
   "outputs": [
    {
     "name": "stderr",
     "output_type": "stream",
     "text": [
      "100%|██████████| 44/44 [00:02<00:00, 19.10it/s]\n"
     ]
    }
   ],
   "source": [
    "mapocam_results_pc = {}\n",
    "for i in tqdm(denied_individuals):\n",
    "    individual = Xts.iloc[i].values\n",
    "    \n",
    "    start = time.perf_counter()\n",
    "    mapocam = MAPOCAM(action_set, individual,\n",
    "                      clf_lgr_mapocam, max_changes=3, \n",
    "                      compare=PercentileChangesCriterion(individual, percCalc),\n",
    "                      recursive=False)\n",
    "    mapocam.fit()\n",
    "    mapocam_time = time.perf_counter()-start\n",
    "    \n",
    "    mapocam_results_pc[i] = {}\n",
    "    mapocam_results_pc[i]['enum'] = mapocam\n",
    "    mapocam_results_pc[i]['time'] = mapocam_time\n",
    "    mapocam_results_pc[i]['num'] = len(mapocam.solutions)"
   ]
  },
  {
   "cell_type": "code",
   "execution_count": 17,
   "metadata": {},
   "outputs": [
    {
     "name": "stderr",
     "output_type": "stream",
     "text": [
      "100%|██████████| 44/44 [00:01<00:00, 37.41it/s]\n"
     ]
    }
   ],
   "source": [
    "lp_results_pc = {}\n",
    "for i in tqdm(denied_individuals):\n",
    "    individual = Xts.iloc[i].values\n",
    "    criteria = PercentileCriterion(individual, percCalc)\n",
    "    \n",
    "    start = time.perf_counter()\n",
    "    lp = LinearRecourseActionsMulti(action_set, individual, coefficients, intercept,\n",
    "                                    threshold, max_changes=3, enumeration_type='remove_number_actions',\n",
    "                                    compare=PercentileChangesCriterion(individual, percCalc))\n",
    "    lp.fit()\n",
    "    lp_time = time.perf_counter()-start\n",
    "    \n",
    "    lp_results_pc[i] = {}\n",
    "    lp_results_pc[i]['enum'] = lp\n",
    "    lp_results_pc[i]['time'] = lp_time\n",
    "    lp_results_pc[i]['num'] = len(lp.solutions)"
   ]
  },
  {
   "cell_type": "code",
   "execution_count": 18,
   "metadata": {},
   "outputs": [
    {
     "name": "stderr",
     "output_type": "stream",
     "text": [
      "100%|██████████| 44/44 [01:18<00:00,  1.79s/it]\n"
     ]
    }
   ],
   "source": [
    "bf_results_pc = {}\n",
    "for i in tqdm(denied_individuals):\n",
    "    individual = Xts.iloc[i].values\n",
    "    \n",
    "    start = time.perf_counter()\n",
    "    bf = BruteForce(action_set, individual, clf_lgr_mapocam, max_changes=3, compare=PercentileChangesCriterion(individual, percCalc))\n",
    "    bf.fit()\n",
    "    bf_time = time.perf_counter()-start\n",
    "    \n",
    "    bf_results_pc[i] = {}\n",
    "    bf_results_pc[i]['enum'] = bf\n",
    "    bf_results_pc[i]['time'] = bf_time\n",
    "    bf_results_pc[i]['num'] = len(bf.solutions)"
   ]
  },
  {
   "cell_type": "code",
   "execution_count": 19,
   "metadata": {},
   "outputs": [],
   "source": [
    "brute_sols_pc = np.array([bf_results_pc[i]['num'] for i in denied_individuals])\n",
    "mapocam_sols_pc = np.array([mapocam_results_pc[i]['num'] for i in denied_individuals])\n",
    "lp_sols_pc = np.array([lp_results_pc[i]['num'] for i in denied_individuals])\n",
    "best_sols_pc = brute_sols_pc\n",
    "\n",
    "brute_time_pc = np.array([bf_results_pc[i]['time'] for i in denied_individuals])\n",
    "mapocam_time_pc = np.array([mapocam_results_pc[i]['time'] for i in denied_individuals])\n",
    "lp_time_pc = np.array([lp_results_pc[i]['time'] for i in denied_individuals])"
   ]
  },
  {
   "cell_type": "code",
   "execution_count": 20,
   "metadata": {},
   "outputs": [
    {
     "name": "stdout",
     "output_type": "stream",
     "text": [
      "Best solution rate:\n",
      "  MAPOCAM: 1.0\n",
      "  brute-force: 1.0\n",
      "  po-mi-logistic: 1.0\n",
      "Time performance:\n",
      "  MAPOCAM: 0.051627026151188395\n",
      "  brute-force: 1.7840174908077726\n",
      "  po-mi-logistic: 0.02604131725225174\n",
      "\n"
     ]
    }
   ],
   "source": [
    "lgr_dict_pc = {'Time performance':\n",
    "            {\n",
    "                'MAPOCAM': float(np.mean(mapocam_time_pc)),\n",
    "                'brute-force': float(np.mean(brute_time_pc)),\n",
    "                'po-mi-logistic': float(np.mean(lp_time_pc)),\n",
    "            },\n",
    "            'Best solution rate':\n",
    "           {\n",
    "               'MAPOCAM':float(np.mean(mapocam_sols_pc==best_sols_pc)),\n",
    "               'brute-force': float(np.mean(brute_sols_pc==best_sols_pc)),\n",
    "               'po-mi-logistic': float(np.mean(lp_sols_pc==best_sols_pc)),\n",
    "           }\n",
    "    \n",
    "}\n",
    "save_result(lgr_dict_pc, 'pima', 'logistic', 'MPC vs. #changes')"
   ]
  },
  {
   "cell_type": "markdown",
   "metadata": {},
   "source": [
    "## Features"
   ]
  },
  {
   "cell_type": "code",
   "execution_count": 21,
   "metadata": {},
   "outputs": [
    {
     "name": "stderr",
     "output_type": "stream",
     "text": [
      "100%|██████████| 44/44 [00:05<00:00,  8.76it/s]\n"
     ]
    }
   ],
   "source": [
    "mapocam_results_feat = {}\n",
    "for i in tqdm(denied_individuals):\n",
    "    individual = Xts.iloc[i].values\n",
    "    \n",
    "    start = time.perf_counter()\n",
    "    mapocam = MAPOCAM(action_set, individual, clf_lgr_mapocam, max_changes=3, recursive=True)\n",
    "    mapocam.fit()\n",
    "    mapocam_time = time.perf_counter()-start\n",
    "    \n",
    "    mapocam_results_feat[i] = {}\n",
    "    mapocam_results_feat[i]['enum'] = mapocam\n",
    "    mapocam_results_feat[i]['time'] = mapocam_time\n",
    "    mapocam_results_feat[i]['num'] = len(mapocam.solutions)"
   ]
  },
  {
   "cell_type": "code",
   "execution_count": 22,
   "metadata": {},
   "outputs": [
    {
     "name": "stderr",
     "output_type": "stream",
     "text": [
      "100%|██████████| 44/44 [00:14<00:00,  3.14it/s]\n"
     ]
    }
   ],
   "source": [
    "lp_results_feat = {}\n",
    "for i in tqdm(denied_individuals):\n",
    "    individual = Xts.iloc[i].values\n",
    "    criteria = PercentileCriterion(individual, percCalc)\n",
    "    \n",
    "    start = time.perf_counter()\n",
    "    lp = LinearRecourseActionsMulti(action_set, individual, coefficients, intercept,\n",
    "                                    threshold, max_changes=3, enumeration_type='remove_dominated')\n",
    "    lp.fit()\n",
    "    lp_time = time.perf_counter()-start\n",
    "    \n",
    "    lp_results_feat[i] = {}\n",
    "    lp_results_feat[i]['enum'] = lp\n",
    "    lp_results_feat[i]['time'] = lp_time\n",
    "    lp_results_feat[i]['num'] = len(lp.solutions)"
   ]
  },
  {
   "cell_type": "code",
   "execution_count": 23,
   "metadata": {},
   "outputs": [
    {
     "name": "stderr",
     "output_type": "stream",
     "text": [
      "100%|██████████| 44/44 [00:28<00:00,  1.55it/s]\n"
     ]
    }
   ],
   "source": [
    "bf_results_feat = {}\n",
    "for i in tqdm(denied_individuals):\n",
    "    individual = Xts.iloc[i].values\n",
    "    \n",
    "    start = time.perf_counter()\n",
    "    bf = BruteForce(action_set, individual, clf_lgr_mapocam, max_changes=3)\n",
    "    bf.fit()\n",
    "    bf_time = time.perf_counter()-start\n",
    "    \n",
    "    bf_results_feat[i] = {}\n",
    "    bf_results_feat[i]['enum'] = bf\n",
    "    bf_results_feat[i]['time'] = bf_time\n",
    "    bf_results_feat[i]['num'] = len(bf.solutions)"
   ]
  },
  {
   "cell_type": "code",
   "execution_count": 24,
   "metadata": {},
   "outputs": [],
   "source": [
    "brute_sols_feat = np.array([bf_results_feat[i]['num'] for i in denied_individuals])\n",
    "mapocam_sols_feat = np.array([mapocam_results_feat[i]['num'] for i in denied_individuals])\n",
    "lp_sols_feat = np.array([lp_results_feat[i]['num'] for i in denied_individuals])\n",
    "best_sols_feat = brute_sols_feat\n",
    "\n",
    "brute_time_feat = np.array([bf_results_feat[i]['time'] for i in denied_individuals])\n",
    "mapocam_time_feat = np.array([mapocam_results_feat[i]['time'] for i in denied_individuals])\n",
    "lp_time_feat = np.array([lp_results_feat[i]['time'] for i in denied_individuals])"
   ]
  },
  {
   "cell_type": "code",
   "execution_count": 25,
   "metadata": {},
   "outputs": [
    {
     "name": "stdout",
     "output_type": "stream",
     "text": [
      "Best solution rate:\n",
      "  MAPOCAM: 1.0\n",
      "  brute-force: 1.0\n",
      "  po-mi-logistic: 1.0\n",
      "Time performance:\n",
      "  MAPOCAM: 0.11331527529083277\n",
      "  brute-force: 0.6430876982287207\n",
      "  po-mi-logistic: 0.31721258840777655\n",
      "\n"
     ]
    }
   ],
   "source": [
    "lgr_dict_feat = {'Time performance':\n",
    "            {\n",
    "                'MAPOCAM': float(np.mean(mapocam_time_feat)),\n",
    "                'brute-force': float(np.mean(brute_time_feat)),\n",
    "                'po-mi-logistic': float(np.mean(lp_time_feat)),\n",
    "            },\n",
    "            'Best solution rate':\n",
    "           {\n",
    "               'MAPOCAM':float(np.mean(mapocam_sols_feat==best_sols_feat)),\n",
    "               'brute-force': float(np.mean(brute_sols_feat==best_sols_feat)),\n",
    "               'po-mi-logistic': float(np.mean(lp_sols_feat==best_sols_feat)),\n",
    "           }\n",
    "    \n",
    "}\n",
    "save_result(lgr_dict_feat, 'pima', 'logistic', 'feature')"
   ]
  },
  {
   "cell_type": "markdown",
   "metadata": {},
   "source": [
    "## Random forest"
   ]
  },
  {
   "cell_type": "code",
   "execution_count": 26,
   "metadata": {},
   "outputs": [],
   "source": [
    "from sklearn import tree, ensemble\n",
    "from cfmining.mip_algorithms import ForestRecourseActions\n",
    "from cfmining.predictors import TreeClassifier"
   ]
  },
  {
   "cell_type": "code",
   "execution_count": 27,
   "metadata": {},
   "outputs": [],
   "source": [
    "clf_rt = ensemble.RandomForestClassifier(n_estimators=5, max_depth=5, max_leaf_nodes=31,\n",
    "                                         class_weight='balanced_subsample')\n",
    "clf_rt.fit(Xtr, ytr);"
   ]
  },
  {
   "cell_type": "markdown",
   "metadata": {},
   "source": [
    "## Preparing counterfactual parameters"
   ]
  },
  {
   "cell_type": "code",
   "execution_count": 28,
   "metadata": {},
   "outputs": [
    {
     "name": "stdout",
     "output_type": "stream",
     "text": [
      "ActionSet stats\n",
      "Number of actionable features: 6\n",
      "Mean number of actions per feature: 13.625\n",
      "Max number of actions per feature: 20\n"
     ]
    }
   ],
   "source": [
    "action_set_tree = copy.deepcopy(action_set_base)\n",
    "action_set_tree.embed_forest(clf_rt)\n",
    "for action in action_set_tree:\n",
    "    action.flip_direction = action.step_direction\n",
    "    \n",
    "print('ActionSet stats')\n",
    "print('Number of actionable features:', sum([action.mutable for action in action_set_tree]))\n",
    "print('Mean number of actions per feature:', np.mean([len(action._grid)-1 for action in action_set_tree]))\n",
    "print('Max number of actions per feature:', np.max([len(action._grid)-1 for action in action_set_tree]))"
   ]
  },
  {
   "cell_type": "code",
   "execution_count": 29,
   "metadata": {},
   "outputs": [],
   "source": [
    "scores = pd.Series(clf_rt.predict_proba(Xts)[:, 1])\n",
    "denied_individuals = scores.loc[lambda s: s < threshold].index"
   ]
  },
  {
   "cell_type": "code",
   "execution_count": 30,
   "metadata": {},
   "outputs": [],
   "source": [
    "percCalc = PercentileCalculator(action_set=action_set_tree)"
   ]
  },
  {
   "cell_type": "code",
   "execution_count": 31,
   "metadata": {},
   "outputs": [],
   "source": [
    "mapocam_clf_rf = TreeClassifier(clf_rt, Xtr, ytr, threshold=threshold)\n",
    "mapocam_clf_rf_fast = TreeClassifier(clf_rt, Xtr, ytr, threshold=threshold, use_predict_max=True)"
   ]
  },
  {
   "cell_type": "markdown",
   "metadata": {},
   "source": [
    "## Linear programming"
   ]
  },
  {
   "cell_type": "code",
   "execution_count": 32,
   "metadata": {},
   "outputs": [
    {
     "name": "stderr",
     "output_type": "stream",
     "text": [
      "  2%|▏         | 1/48 [00:00<00:04,  9.98it/s]"
     ]
    },
    {
     "name": "stdout",
     "output_type": "stream",
     "text": [
      "gurobi version 9.0 found\n"
     ]
    },
    {
     "name": "stderr",
     "output_type": "stream",
     "text": [
      "100%|██████████| 48/48 [00:01<00:00, 35.51it/s]\n"
     ]
    }
   ],
   "source": [
    "lp_rf_results = {}\n",
    "for i in tqdm(denied_individuals):\n",
    "    individual = Xts.iloc[i].values\n",
    "    criteria = PercentileCriterion(individual, percCalc)\n",
    "    \n",
    "    start = time.perf_counter()\n",
    "    lp = ForestRecourseActions(action_set_tree, individual, clf_rt, threshold=threshold, max_changes=float('inf'))\n",
    "    lp.build_model()\n",
    "    lp.fit(threads=1)\n",
    "    lp_time = time.perf_counter()-start\n",
    "    \n",
    "    lp_rf_results[i] = {}\n",
    "    lp_rf_results[i]['enum'] = lp\n",
    "    lp_rf_results[i]['indiv'] = individual\n",
    "    lp_rf_results[i]['solution'] = lp.solution#[int(s) if act.variable_type=='int' else float(s) for s, act in zip(pl.solution, action_set)]\n",
    "    lp_rf_results[i]['time'] = lp_time\n",
    "    lp_rf_results[i]['cost'] = criteria.f(lp_rf_results[i]['solution']) if not any(np.isnan(lp_rf_results[i]['solution'])) else float('inf')"
   ]
  },
  {
   "cell_type": "markdown",
   "metadata": {},
   "source": [
    "## Greedy approach"
   ]
  },
  {
   "cell_type": "code",
   "execution_count": 33,
   "metadata": {},
   "outputs": [
    {
     "name": "stderr",
     "output_type": "stream",
     "text": [
      "100%|██████████| 48/48 [00:01<00:00, 41.31it/s]\n"
     ]
    }
   ],
   "source": [
    "greedy_rf_results = {}\n",
    "for i in tqdm(denied_individuals):\n",
    "    individual = Xts.iloc[i].values\n",
    "    criteria = PercentileCriterion(individual, percCalc)\n",
    "    \n",
    "    start = time.perf_counter()\n",
    "    mapocam_clf_rf_fast.fit(individual, action_set_tree)\n",
    "    greedy = Greedy(action_set_tree, individual, mapocam_clf_rf_fast, criteria)\n",
    "    greedy.fit()\n",
    "    greedy_time = time.perf_counter()-start\n",
    "    \n",
    "    greedy_rf_results[i] = {}\n",
    "    greedy_rf_results[i]['solution'] = greedy.solution\n",
    "    greedy_rf_results[i]['time'] = greedy_time\n",
    "    greedy_rf_results[i]['cost'] = criteria.f(greedy.solution) if greedy.solution is not None else float('inf')"
   ]
  },
  {
   "cell_type": "markdown",
   "metadata": {},
   "source": [
    "## MAPOCAM"
   ]
  },
  {
   "cell_type": "code",
   "execution_count": 34,
   "metadata": {},
   "outputs": [
    {
     "name": "stderr",
     "output_type": "stream",
     "text": [
      "100%|██████████| 48/48 [00:13<00:00,  3.57it/s]\n"
     ]
    }
   ],
   "source": [
    "mapocam_rf_results = {}\n",
    "for i in tqdm(denied_individuals):\n",
    "    individual = Xts.iloc[i].values\n",
    "    criteria = PercentileCriterion(individual, percCalc)\n",
    "    \n",
    "    start = time.perf_counter()\n",
    "    mapocam_clf_rf.fit(individual, action_set_tree)\n",
    "    mapocam = MAPOCAM(action_set_tree, individual, mapocam_clf_rf, max_changes=float('inf'), compare=criteria)\n",
    "    mapocam.fit()\n",
    "    mapocam_time = time.perf_counter()-start\n",
    "    \n",
    "    mapocam_rf_results[i] = {}\n",
    "    mapocam_rf_results[i]['enum'] = mapocam\n",
    "    mapocam_rf_results[i]['solution'] = mapocam.solutions[0] if len(mapocam.solutions)>0 else None\n",
    "    mapocam_rf_results[i]['time'] = mapocam_time\n",
    "    mapocam_rf_results[i]['cost'] = criteria.f(mapocam.solutions[0])  if len(mapocam.solutions)>0 else float('inf')"
   ]
  },
  {
   "cell_type": "code",
   "execution_count": 35,
   "metadata": {},
   "outputs": [
    {
     "name": "stderr",
     "output_type": "stream",
     "text": [
      "100%|██████████| 48/48 [00:01<00:00, 29.57it/s]\n"
     ]
    }
   ],
   "source": [
    "mapocam_rf_results_plus = {}\n",
    "for i in tqdm(denied_individuals):\n",
    "    individual = Xts.iloc[i].values\n",
    "    criteria = PercentileCriterion(individual, percCalc)\n",
    "    \n",
    "    start = time.perf_counter()\n",
    "    mapocam_clf_rf_fast.fit(individual, action_set_tree)\n",
    "    mapocam = MAPOCAM(action_set_tree, individual, mapocam_clf_rf_fast, max_changes=float('inf'), compare=criteria)\n",
    "    mapocam.fit()\n",
    "    mapocam_time = time.perf_counter()-start\n",
    "    \n",
    "    mapocam_rf_results_plus[i] = {}\n",
    "    mapocam_rf_results_plus[i]['enum'] = mapocam\n",
    "    mapocam_rf_results_plus[i]['solution'] = mapocam.solutions[0] if len(mapocam.solutions)>0 else None\n",
    "    mapocam_rf_results_plus[i]['time'] = mapocam_time\n",
    "    mapocam_rf_results_plus[i]['cost'] = criteria.f(mapocam.solutions[0])  if len(mapocam.solutions)>0 else float('inf')"
   ]
  },
  {
   "cell_type": "code",
   "execution_count": 36,
   "metadata": {},
   "outputs": [],
   "source": [
    "lp_rf_costs = np.array([lp_rf_results[i]['cost'] for i in denied_individuals])\n",
    "greedy_rf_costs = np.array([greedy_rf_results[i]['cost'] for i in denied_individuals])\n",
    "mapocam_rf_costs = np.array([mapocam_rf_results[i]['cost'] for i in denied_individuals])\n",
    "mapocam_rf_costs_plus = np.array([mapocam_rf_results_plus[i]['cost'] for i in denied_individuals])\n",
    "best_costs_rf = np.min([lp_rf_costs, greedy_rf_costs, mapocam_rf_costs, mapocam_rf_costs_plus], axis=0)\n",
    "\n",
    "lp_rf_time = np.array([lp_rf_results[i]['time'] for i in denied_individuals])\n",
    "greedy_rf_time = np.array([greedy_rf_results[i]['time'] for i in denied_individuals])\n",
    "mapocam_rf_time = np.array([mapocam_rf_results[i]['time'] for i in denied_individuals])\n",
    "mapocam_rf_time_plus = np.array([mapocam_rf_results_plus[i]['time'] for i in denied_individuals])"
   ]
  },
  {
   "cell_type": "code",
   "execution_count": 37,
   "metadata": {},
   "outputs": [
    {
     "name": "stdout",
     "output_type": "stream",
     "text": [
      "Best solution rate:\n",
      "  MAPOCAM-N: 1.0\n",
      "  MAPOCAM-P: 1.0\n",
      "  greedy: 0.4791666666666667\n",
      "  mi-trees: 1.0\n",
      "Feasible rate: 1.0\n",
      "Time performance:\n",
      "  MAPOCAM-N: 0.2792909473379647\n",
      "  MAPOCAM-P: 0.0334321288052403\n",
      "  greedy: 0.023830622318200767\n",
      "  mi-trees: 0.027216215397250682\n",
      "\n"
     ]
    }
   ],
   "source": [
    "tree_dict = {'Time performance':\n",
    "            {\n",
    "                'MAPOCAM-P': float(np.mean(mapocam_rf_time_plus)),\n",
    "                'MAPOCAM-N': float(np.mean(mapocam_rf_time)),\n",
    "                'greedy': float(np.mean(greedy_rf_time)),\n",
    "                'mi-trees': float(np.mean(lp_rf_time)),\n",
    "            },\n",
    "            'Best solution rate':\n",
    "           {\n",
    "               'MAPOCAM-P':float(np.mean(mapocam_rf_costs_plus==best_costs_rf)),\n",
    "               'MAPOCAM-N':float(np.mean(mapocam_rf_costs==best_costs_rf)),\n",
    "               'greedy': float(np.mean(greedy_rf_costs==best_costs_rf)),\n",
    "               'mi-trees': float(np.mean(lp_rf_costs==best_costs_rf)),\n",
    "           },\n",
    "             'Feasible rate':1-float(np.mean(np.isnan(mapocam_rf_costs_plus)))\n",
    "    \n",
    "}\n",
    "save_result(tree_dict, 'pima', 'tree', 'MPC cost')"
   ]
  },
  {
   "cell_type": "markdown",
   "metadata": {},
   "source": [
    "## Comparing Pareto enumeration"
   ]
  },
  {
   "cell_type": "markdown",
   "metadata": {},
   "source": [
    "## Percentile vs changes"
   ]
  },
  {
   "cell_type": "code",
   "execution_count": 38,
   "metadata": {},
   "outputs": [
    {
     "name": "stderr",
     "output_type": "stream",
     "text": [
      "100%|██████████| 48/48 [00:06<00:00,  6.88it/s]\n"
     ]
    }
   ],
   "source": [
    "mapocam_rf_results_pc = {}\n",
    "for i in tqdm(denied_individuals):\n",
    "    individual = Xts.iloc[i].values\n",
    "    \n",
    "    start = time.perf_counter()\n",
    "    mapocam_clf_rf.fit(individual, action_set_tree)\n",
    "    mapocam = MAPOCAM(action_set_tree, individual,\n",
    "                      mapocam_clf_rf, max_changes=3,\n",
    "                      compare=PercentileChangesCriterion(individual, percCalc),\n",
    "                      recursive=False)\n",
    "    mapocam.fit()\n",
    "    mapocam_time = time.perf_counter()-start\n",
    "    \n",
    "    mapocam_rf_results_pc[i] = {}\n",
    "    mapocam_rf_results_pc[i]['enum'] = mapocam\n",
    "    mapocam_rf_results_pc[i]['time'] = mapocam_time\n",
    "    mapocam_rf_results_pc[i]['num'] = len(mapocam.solutions)"
   ]
  },
  {
   "cell_type": "code",
   "execution_count": 39,
   "metadata": {},
   "outputs": [
    {
     "name": "stderr",
     "output_type": "stream",
     "text": [
      "100%|██████████| 48/48 [00:02<00:00, 23.98it/s]\n"
     ]
    }
   ],
   "source": [
    "mapocam_rf_results_pc_plus = {}\n",
    "for i in tqdm(denied_individuals):\n",
    "    individual = Xts.iloc[i].values\n",
    "    \n",
    "    start = time.perf_counter()\n",
    "    mapocam_clf_rf_fast.fit(individual, action_set_tree)\n",
    "    mapocam = MAPOCAM(action_set_tree, individual,\n",
    "                      mapocam_clf_rf_fast, max_changes=3,\n",
    "                      compare=PercentileChangesCriterion(individual, percCalc),\n",
    "                      recursive=False)\n",
    "    mapocam.fit()\n",
    "    mapocam_time = time.perf_counter()-start\n",
    "    \n",
    "    mapocam_rf_results_pc_plus[i] = {}\n",
    "    mapocam_rf_results_pc_plus[i]['enum'] = mapocam\n",
    "    mapocam_rf_results_pc_plus[i]['time'] = mapocam_time\n",
    "    mapocam_rf_results_pc_plus[i]['num'] = len(mapocam.solutions)"
   ]
  },
  {
   "cell_type": "code",
   "execution_count": 40,
   "metadata": {},
   "outputs": [
    {
     "name": "stderr",
     "output_type": "stream",
     "text": [
      "100%|██████████| 48/48 [00:03<00:00, 12.67it/s]\n"
     ]
    }
   ],
   "source": [
    "lp_rf_results_pc = {}\n",
    "for i in tqdm(denied_individuals):\n",
    "    individual = Xts.iloc[i].values\n",
    "    criteria = PercentileCriterion(individual, percCalc)\n",
    "    \n",
    "    start = time.perf_counter()\n",
    "    lp = ForestRecourseActions(action_set_tree, individual, clf_rt, threshold=threshold,\n",
    "                               max_changes=3, multi_solution=True,\n",
    "                               cost_type='linear', compare=PercentileChangesCriterion(individual, percCalc))\n",
    "    lp.build_model()\n",
    "    lp.fit()\n",
    "    lp_time = time.perf_counter()-start\n",
    "    \n",
    "    lp_rf_results_pc[i] = {}\n",
    "    lp_rf_results_pc[i]['enum'] = lp\n",
    "    lp_rf_results_pc[i]['time'] = lp_time\n",
    "    lp_rf_results_pc[i]['num'] = len(lp.solutions)"
   ]
  },
  {
   "cell_type": "code",
   "execution_count": 41,
   "metadata": {},
   "outputs": [
    {
     "name": "stderr",
     "output_type": "stream",
     "text": [
      "100%|██████████| 48/48 [01:51<00:00,  2.33s/it]\n"
     ]
    }
   ],
   "source": [
    "bf_rf_results_pc = {}\n",
    "for i in tqdm(denied_individuals):\n",
    "    individual = Xts.iloc[i].values\n",
    "    \n",
    "    start = time.perf_counter()\n",
    "    mapocam_clf_rf_fast.fit(individual, action_set_tree)\n",
    "    bf = BruteForce(action_set_tree, individual, mapocam_clf_rf_fast, max_changes=3, compare=PercentileChangesCriterion(individual, percCalc))\n",
    "    bf.fit()\n",
    "    bf_time = time.perf_counter()-start\n",
    "    \n",
    "    bf_rf_results_pc[i] = {}\n",
    "    bf_rf_results_pc[i]['enum'] = bf\n",
    "    bf_rf_results_pc[i]['time'] = bf_time\n",
    "    bf_rf_results_pc[i]['num'] = len(bf.solutions)"
   ]
  },
  {
   "cell_type": "code",
   "execution_count": 42,
   "metadata": {},
   "outputs": [],
   "source": [
    "lp_rf_sols_pc = np.array([lp_rf_results_pc[i]['num'] for i in denied_individuals])\n",
    "brute_rf_sols_pc = np.array([bf_rf_results_pc[i]['num'] for i in denied_individuals])\n",
    "mapocam_rf_sols_pc = np.array([mapocam_rf_results_pc[i]['num'] for i in denied_individuals])\n",
    "mapocam_rf_sols_pc_plus = np.array([mapocam_rf_results_pc_plus[i]['num'] for i in denied_individuals])\n",
    "best_rf_sols_pc = brute_rf_sols_pc\n",
    "\n",
    "lp_rf_time_pc = np.array([lp_rf_results_pc[i]['time'] for i in denied_individuals])\n",
    "brute_rf_time_pc = np.array([bf_rf_results_pc[i]['time'] for i in denied_individuals])\n",
    "mapocam_rf_time_pc = np.array([mapocam_rf_results_pc[i]['time'] for i in denied_individuals])\n",
    "mapocam_rf_time_pc_plus = np.array([mapocam_rf_results_pc_plus[i]['time'] for i in denied_individuals])"
   ]
  },
  {
   "cell_type": "code",
   "execution_count": 43,
   "metadata": {},
   "outputs": [
    {
     "name": "stdout",
     "output_type": "stream",
     "text": [
      "Best solution rate:\n",
      "  MAPOCAM-N: 1.0\n",
      "  MAPOCAM-P: 1.0\n",
      "  brute-force: 1.0\n",
      "  po-mi-trees: 1.0\n",
      "Time performance:\n",
      "  MAPOCAM-N: 0.14466667487674081\n",
      "  MAPOCAM-P: 0.04124922117140765\n",
      "  brute-force: 2.324014709331095\n",
      "  po-mi-trees: 0.07821853288866502\n",
      "\n"
     ]
    }
   ],
   "source": [
    "tree_dict_pc = {'Time performance':\n",
    "            {\n",
    "                'MAPOCAM-P': float(np.mean(mapocam_rf_time_pc_plus)),\n",
    "                'MAPOCAM-N': float(np.mean(mapocam_rf_time_pc)),\n",
    "                'brute-force': float(np.mean(brute_rf_time_pc)),\n",
    "                'po-mi-trees': float(np.mean(lp_rf_time_pc)),\n",
    "            },\n",
    "            'Best solution rate':\n",
    "           {\n",
    "               'MAPOCAM-P':float(np.mean(mapocam_rf_sols_pc_plus==best_rf_sols_pc)),\n",
    "               'MAPOCAM-N':float(np.mean(mapocam_rf_sols_pc==best_rf_sols_pc)),\n",
    "               'brute-force': float(np.mean(brute_rf_sols_pc==best_rf_sols_pc)),\n",
    "               'po-mi-trees': float(np.mean(lp_rf_sols_pc==best_rf_sols_pc)),\n",
    "           }\n",
    "    \n",
    "}\n",
    "save_result(tree_dict_pc, 'pima', 'tree', 'MPC vs. #changes')"
   ]
  },
  {
   "cell_type": "markdown",
   "metadata": {},
   "source": [
    "## Features"
   ]
  },
  {
   "cell_type": "code",
   "execution_count": 44,
   "metadata": {},
   "outputs": [
    {
     "name": "stderr",
     "output_type": "stream",
     "text": [
      "100%|██████████| 48/48 [00:44<00:00,  1.07it/s]\n"
     ]
    }
   ],
   "source": [
    "mapocam_rf_results_feat = {}\n",
    "for i in tqdm(denied_individuals):\n",
    "    individual = Xts.iloc[i].values\n",
    "    \n",
    "    start = time.perf_counter()\n",
    "    mapocam_clf_rf.fit(individual, action_set_tree)\n",
    "    mapocam = MAPOCAM(action_set_tree, individual, mapocam_clf_rf, max_changes=3, recursive=True)\n",
    "    mapocam.fit()\n",
    "    mapocam_time = time.perf_counter()-start\n",
    "    \n",
    "    mapocam_rf_results_feat[i] = {}\n",
    "    mapocam_rf_results_feat[i]['enum'] = mapocam\n",
    "    mapocam_rf_results_feat[i]['time'] = mapocam_time\n",
    "    mapocam_rf_results_feat[i]['num'] = len(mapocam.solutions)"
   ]
  },
  {
   "cell_type": "code",
   "execution_count": 45,
   "metadata": {},
   "outputs": [
    {
     "name": "stderr",
     "output_type": "stream",
     "text": [
      "100%|██████████| 48/48 [00:08<00:00,  5.49it/s]\n"
     ]
    }
   ],
   "source": [
    "mapocam_rf_results_feat_plus = {}\n",
    "for i in tqdm(denied_individuals):\n",
    "    individual = Xts.iloc[i].values\n",
    "    \n",
    "    start = time.perf_counter()\n",
    "    mapocam_clf_rf_fast.fit(individual, action_set_tree)\n",
    "    mapocam = MAPOCAM(action_set_tree, individual, mapocam_clf_rf_fast, max_changes=3, recursive=True)\n",
    "    mapocam.fit()\n",
    "    mapocam_time = time.perf_counter()-start\n",
    "    \n",
    "    mapocam_rf_results_feat_plus[i] = {}\n",
    "    mapocam_rf_results_feat_plus[i]['enum'] = mapocam\n",
    "    mapocam_rf_results_feat_plus[i]['time'] = mapocam_time\n",
    "    mapocam_rf_results_feat_plus[i]['num'] = len(mapocam.solutions)"
   ]
  },
  {
   "cell_type": "code",
   "execution_count": 46,
   "metadata": {},
   "outputs": [
    {
     "name": "stderr",
     "output_type": "stream",
     "text": [
      "100%|██████████| 48/48 [00:03<00:00, 12.35it/s]\n"
     ]
    }
   ],
   "source": [
    "lp_rf_results_feat = {}\n",
    "for i in tqdm(denied_individuals):\n",
    "    individual = Xts.iloc[i].values\n",
    "    criteria = PercentileCriterion(individual, percCalc)\n",
    "    \n",
    "    start = time.perf_counter()\n",
    "    lp = ForestRecourseActions(action_set_tree, individual, clf_rt, threshold=threshold,\n",
    "                               max_changes=3, multi_solution=True,\n",
    "                               cost_type='linear')\n",
    "    lp.build_model()\n",
    "    lp.fit()\n",
    "    lp_time = time.perf_counter()-start\n",
    "    \n",
    "    lp_rf_results_feat[i] = {}\n",
    "    lp_rf_results_feat[i]['enum'] = lp\n",
    "    lp_rf_results_feat[i]['time'] = lp_time\n",
    "    lp_rf_results_feat[i]['num'] = len(lp.solutions)"
   ]
  },
  {
   "cell_type": "code",
   "execution_count": 47,
   "metadata": {},
   "outputs": [
    {
     "name": "stderr",
     "output_type": "stream",
     "text": [
      "100%|██████████| 48/48 [01:12<00:00,  1.52s/it]\n"
     ]
    }
   ],
   "source": [
    "bf_rf_results_feat = {}\n",
    "for i in tqdm(denied_individuals):\n",
    "    individual = Xts.iloc[i].values\n",
    "    \n",
    "    start = time.perf_counter()\n",
    "    mapocam_clf_rf_fast.fit(individual, action_set_tree)\n",
    "    bf = BruteForce(action_set_tree, individual, mapocam_clf_rf_fast, max_changes=3)\n",
    "    bf.fit()\n",
    "    bf_time = time.perf_counter()-start\n",
    "    \n",
    "    bf_rf_results_feat[i] = {}\n",
    "    bf_rf_results_feat[i]['enum'] = bf\n",
    "    bf_rf_results_feat[i]['time'] = bf_time\n",
    "    bf_rf_results_feat[i]['num'] = len(bf.solutions)"
   ]
  },
  {
   "cell_type": "code",
   "execution_count": 48,
   "metadata": {},
   "outputs": [],
   "source": [
    "brute_rf_sols_feat = np.array([bf_rf_results_feat[i]['num'] for i in denied_individuals])\n",
    "lp_rf_sols_feat = np.array([lp_rf_results_feat[i]['num'] for i in denied_individuals])\n",
    "mapocam_rf_sols_feat = np.array([mapocam_rf_results_feat[i]['num'] for i in denied_individuals])\n",
    "mapocam_rf_sols_feat_plus = np.array([mapocam_rf_results_feat_plus[i]['num'] for i in denied_individuals])\n",
    "best_rf_sols_feat = brute_rf_sols_feat\n",
    "\n",
    "brute_rf_time_feat = np.array([bf_rf_results_feat[i]['time'] for i in denied_individuals])\n",
    "lp_rf_time_feat = np.array([lp_rf_results_feat[i]['time'] for i in denied_individuals])\n",
    "mapocam_rf_time_feat = np.array([mapocam_rf_results_feat[i]['time'] for i in denied_individuals])\n",
    "mapocam_rf_time_feat_plus = np.array([mapocam_rf_results_feat_plus[i]['time'] for i in denied_individuals])"
   ]
  },
  {
   "cell_type": "code",
   "execution_count": 49,
   "metadata": {},
   "outputs": [
    {
     "name": "stdout",
     "output_type": "stream",
     "text": [
      "Best solution rate:\n",
      "  MAPOCAM-N: 1.0\n",
      "  MAPOCAM-P: 1.0\n",
      "  brute-force: 1.0\n",
      "  po-mi-trees: 1.0\n",
      "Time performance:\n",
      "  MAPOCAM-N: 0.9320863472360846\n",
      "  MAPOCAM-P: 0.18106789010198554\n",
      "  brute-force: 1.5178035113131045\n",
      "  po-mi-trees: 0.08028230712807272\n",
      "\n"
     ]
    }
   ],
   "source": [
    "tree_dict_feat = {'Time performance':\n",
    "            {\n",
    "                'MAPOCAM-P': float(np.mean(mapocam_rf_time_feat_plus)),\n",
    "                'MAPOCAM-N': float(np.mean(mapocam_rf_time_feat)),\n",
    "                'brute-force': float(np.mean(brute_rf_time_feat)),\n",
    "                'po-mi-trees': float(np.mean(lp_rf_time_feat)),\n",
    "            },\n",
    "            'Best solution rate':\n",
    "           {\n",
    "               'MAPOCAM-P':float(np.mean(mapocam_rf_sols_feat_plus==best_rf_sols_feat)),\n",
    "               'MAPOCAM-N':float(np.mean(mapocam_rf_sols_feat==best_rf_sols_feat)),\n",
    "               'brute-force': float(np.mean(brute_rf_sols_feat==best_rf_sols_feat)),\n",
    "               'po-mi-trees': float(np.mean(lp_rf_sols_feat==best_rf_sols_feat)),\n",
    "           }\n",
    "    \n",
    "}\n",
    "save_result(tree_dict_feat, 'pima', 'tree', 'feature')"
   ]
  },
  {
   "cell_type": "markdown",
   "metadata": {},
   "source": [
    "## Monotone trees"
   ]
  },
  {
   "cell_type": "code",
   "execution_count": 50,
   "metadata": {},
   "outputs": [],
   "source": [
    "from sklearn import tree, ensemble\n",
    "import lightgbm\n",
    "from cfmining.predictors import MonotoneTree"
   ]
  },
  {
   "cell_type": "code",
   "execution_count": 51,
   "metadata": {},
   "outputs": [
    {
     "data": {
      "text/plain": [
       "LGBMClassifier(boosting_type='gbdt', class_weight='balanced',\n",
       "               colsample_bytree=1.0, importance_type='split', learning_rate=0.1,\n",
       "               max_depth=10, min_child_samples=20, min_child_weight=0.001,\n",
       "               min_split_gain=0.0,\n",
       "               monotone_constraints=[-1, -1, -1, -1, -1, -1, 1, -1],\n",
       "               n_estimators=10, n_jobs=-1, num_leaves=63, objective=None,\n",
       "               random_state=None, reg_alpha=0.0, reg_lambda=0.0, silent=True,\n",
       "               subsample=1.0, subsample_for_bin=200000, subsample_freq=0)"
      ]
     },
     "execution_count": 51,
     "metadata": {},
     "output_type": "execute_result"
    }
   ],
   "source": [
    "monotone_constraints = [action.step_direction for action in action_set_base]\n",
    "clf_mt = lightgbm.LGBMClassifier(n_estimators=10, max_depth=10, num_leaves=63,\n",
    "                                 monotone_constraints=monotone_constraints,\n",
    "                                 class_weight='balanced')\n",
    "clf_mt.fit(Xtr, ytr)"
   ]
  },
  {
   "cell_type": "markdown",
   "metadata": {},
   "source": [
    "## Preparing counterfactual parameters"
   ]
  },
  {
   "cell_type": "code",
   "execution_count": 52,
   "metadata": {},
   "outputs": [
    {
     "name": "stdout",
     "output_type": "stream",
     "text": [
      "ActionSet stats\n",
      "Number of actionable features: 6\n",
      "Mean number of actions per feature: 8.5\n",
      "Max number of actions per feature: 27\n"
     ]
    }
   ],
   "source": [
    "action_set_mtree = copy.deepcopy(action_set_base)\n",
    "action_set_mtree.embed_forest(clf_mt)\n",
    "for action in action_set_mtree:\n",
    "    action.flip_direction = action.step_direction\n",
    "\n",
    "print('ActionSet stats')\n",
    "print('Number of actionable features:', sum([action.mutable for action in action_set_mtree]))\n",
    "print('Mean number of actions per feature:', np.mean([len(action._grid)-1 for action in action_set_mtree]))\n",
    "print('Max number of actions per feature:', np.max([len(action._grid)-1 for action in action_set_mtree]))"
   ]
  },
  {
   "cell_type": "code",
   "execution_count": 53,
   "metadata": {},
   "outputs": [],
   "source": [
    "scores = pd.Series(clf_mt.predict_proba(Xts)[:, 1])\n",
    "denied_individuals = scores.loc[lambda s: s < threshold].index"
   ]
  },
  {
   "cell_type": "code",
   "execution_count": 54,
   "metadata": {},
   "outputs": [],
   "source": [
    "percCalc = PercentileCalculator(action_set=action_set_mtree)"
   ]
  },
  {
   "cell_type": "code",
   "execution_count": 55,
   "metadata": {},
   "outputs": [],
   "source": [
    "mapocam_clf_mt = TreeClassifier(clf_mt, Xtr, ytr, clf_type='lightgbm', threshold=threshold)\n",
    "mapocam_clf_mt_fast = TreeClassifier(clf_mt, Xtr, ytr, clf_type='lightgbm', threshold=threshold, use_predict_max=True)\n",
    "mapocam_clf_mt_mon = MonotoneTree(clf_mt, Xtr, ytr, clf_type='lightgbm', threshold=threshold, use_predict_max=True)"
   ]
  },
  {
   "cell_type": "markdown",
   "metadata": {},
   "source": [
    "## Linear programming"
   ]
  },
  {
   "cell_type": "code",
   "execution_count": 56,
   "metadata": {},
   "outputs": [
    {
     "name": "stderr",
     "output_type": "stream",
     "text": [
      "100%|██████████| 47/47 [00:01<00:00, 24.61it/s]\n"
     ]
    }
   ],
   "source": [
    "lp_mt_results = {}\n",
    "for i in tqdm(denied_individuals):\n",
    "    individual = Xts.iloc[i].values\n",
    "    criteria = PercentileCriterion(individual, percCalc)\n",
    "    \n",
    "    start = time.perf_counter()\n",
    "    lp = ForestRecourseActions(action_set_mtree, individual, clf_mt, clf_type='lightgbm', threshold=threshold, max_changes=float('inf'))\n",
    "    lp.build_model()\n",
    "    lp.fit(threads=1)\n",
    "    lp_time = time.perf_counter()-start\n",
    "    \n",
    "    lp_mt_results[i] = {}\n",
    "    lp_mt_results[i]['enum'] = lp\n",
    "    lp_mt_results[i]['indiv'] = individual\n",
    "    lp_mt_results[i]['solution'] = lp.solution#[int(s) if act.variable_type=='int' else float(s) for s, act in zip(pl.solution, action_set)]\n",
    "    lp_mt_results[i]['time'] = lp_time\n",
    "    lp_mt_results[i]['cost'] = criteria.f(lp_mt_results[i]['solution']) if not any(np.isnan(lp_mt_results[i]['solution'])) else float('inf')"
   ]
  },
  {
   "cell_type": "markdown",
   "metadata": {},
   "source": [
    "## Greedy approach"
   ]
  },
  {
   "cell_type": "code",
   "execution_count": 57,
   "metadata": {},
   "outputs": [
    {
     "name": "stderr",
     "output_type": "stream",
     "text": [
      "100%|██████████| 47/47 [00:02<00:00, 18.85it/s]\n"
     ]
    }
   ],
   "source": [
    "greedy_mt_results = {}\n",
    "for i in tqdm(denied_individuals):\n",
    "    individual = Xts.iloc[i].values\n",
    "    criteria = PercentileCriterion(individual, percCalc)\n",
    "    \n",
    "    start = time.perf_counter()\n",
    "    mapocam_clf_mt.fit(individual, action_set_mtree)\n",
    "    greedy = Greedy(action_set_mtree, individual, mapocam_clf_mt, criteria)\n",
    "    greedy.fit()\n",
    "    greedy_time = time.perf_counter()-start\n",
    "    \n",
    "    greedy_mt_results[i] = {}\n",
    "    greedy_mt_results[i]['solution'] = greedy.solution\n",
    "    greedy_mt_results[i]['time'] = greedy_time\n",
    "    greedy_mt_results[i]['cost'] = criteria.f(greedy.solution) if greedy.solution is not None else float('inf')"
   ]
  },
  {
   "cell_type": "markdown",
   "metadata": {},
   "source": [
    "## MAPOCAME"
   ]
  },
  {
   "cell_type": "code",
   "execution_count": 58,
   "metadata": {},
   "outputs": [
    {
     "name": "stderr",
     "output_type": "stream",
     "text": [
      "100%|██████████| 47/47 [00:28<00:00,  1.66it/s]\n"
     ]
    }
   ],
   "source": [
    "mapocam_mt_results = {}\n",
    "for i in tqdm(denied_individuals):\n",
    "    individual = Xts.iloc[i].values\n",
    "    criteria = PercentileCriterion(individual, percCalc)\n",
    "    \n",
    "    start = time.perf_counter()\n",
    "    mapocam_clf_mt.fit(individual, action_set_mtree)\n",
    "    mapocam = MAPOCAM(action_set_mtree, individual, mapocam_clf_mt, \n",
    "                      max_changes=float('inf'), compare=criteria)\n",
    "    mapocam.fit()\n",
    "    mapocam_time = time.perf_counter()-start\n",
    "    \n",
    "    mapocam_mt_results[i] = {}\n",
    "    mapocam_mt_results[i]['enum'] = mapocam\n",
    "    mapocam_mt_results[i]['solution'] = mapocam.solutions[0] if len(mapocam.solutions)>0 else None\n",
    "    mapocam_mt_results[i]['time'] = mapocam_time\n",
    "    mapocam_mt_results[i]['cost'] = criteria.f(mapocam.solutions[0])  if len(mapocam.solutions)>0 else float('inf')"
   ]
  },
  {
   "cell_type": "code",
   "execution_count": 59,
   "metadata": {},
   "outputs": [
    {
     "name": "stderr",
     "output_type": "stream",
     "text": [
      "100%|██████████| 47/47 [00:03<00:00, 12.54it/s]\n"
     ]
    }
   ],
   "source": [
    "mapocam_mt_results_plus = {}\n",
    "for i in tqdm(denied_individuals):\n",
    "    individual = Xts.iloc[i].values\n",
    "    criteria = PercentileCriterion(individual, percCalc)\n",
    "    \n",
    "    start = time.perf_counter()\n",
    "    mapocam_clf_mt_fast.fit(individual, action_set_mtree)\n",
    "    mapocam = MAPOCAM(action_set_mtree, individual, \n",
    "                      mapocam_clf_mt_fast, max_changes=float('inf'),\n",
    "                      compare=criteria)\n",
    "    mapocam.fit()\n",
    "    mapocam_time = time.perf_counter()-start\n",
    "    \n",
    "    mapocam_mt_results_plus[i] = {}\n",
    "    mapocam_mt_results_plus[i]['enum'] = mapocam\n",
    "    mapocam_mt_results_plus[i]['solution'] = mapocam.solutions[0] if len(mapocam.solutions)>0 else None\n",
    "    mapocam_mt_results_plus[i]['time'] = mapocam_time\n",
    "    mapocam_mt_results_plus[i]['cost'] = criteria.f(mapocam.solutions[0])  if len(mapocam.solutions)>0 else float('inf')"
   ]
  },
  {
   "cell_type": "code",
   "execution_count": 60,
   "metadata": {},
   "outputs": [
    {
     "name": "stderr",
     "output_type": "stream",
     "text": [
      "100%|██████████| 47/47 [00:01<00:00, 32.90it/s]\n"
     ]
    }
   ],
   "source": [
    "mapocam_mt_results_mon = {}\n",
    "for i in tqdm(denied_individuals):\n",
    "    individual = Xts.iloc[i].values\n",
    "    criteria = PercentileCriterion(individual, percCalc)\n",
    "    \n",
    "    start = time.perf_counter()\n",
    "    mapocam_clf_mt_mon.fit(individual, action_set_mtree)\n",
    "    mapocam = MAPOCAM(action_set_mtree, individual,\n",
    "                      mapocam_clf_mt_mon, max_changes=float('inf'),\n",
    "                      compare=criteria)\n",
    "    mapocam.fit()\n",
    "    mapocam_time = time.perf_counter()-start\n",
    "    \n",
    "    mapocam_mt_results_mon[i] = {}\n",
    "    mapocam_mt_results_mon[i]['enum'] = mapocam\n",
    "    mapocam_mt_results_mon[i]['solution'] = mapocam.solutions[0] if len(mapocam.solutions)>0 else None\n",
    "    mapocam_mt_results_mon[i]['time'] = mapocam_time\n",
    "    mapocam_mt_results_mon[i]['cost'] = criteria.f(mapocam.solutions[0])  if len(mapocam.solutions)>0 else float('inf')"
   ]
  },
  {
   "cell_type": "code",
   "execution_count": 61,
   "metadata": {},
   "outputs": [],
   "source": [
    "lp_mt_costs = np.array([lp_mt_results[i]['cost'] for i in denied_individuals])\n",
    "greedy_mt_costs = np.array([greedy_mt_results[i]['cost'] for i in denied_individuals])\n",
    "mapocam_mt_costs = np.array([mapocam_mt_results[i]['cost'] for i in denied_individuals])\n",
    "mapocam_mt_costs_plus = np.array([mapocam_mt_results_plus[i]['cost'] for i in denied_individuals])\n",
    "mapocam_mt_costs_mon = np.array([mapocam_mt_results_mon[i]['cost'] for i in denied_individuals])\n",
    "best_costs_mt_rf = np.min([lp_mt_costs, greedy_mt_costs, mapocam_mt_costs, mapocam_mt_costs_plus, mapocam_mt_costs_mon], axis=0)\n",
    "\n",
    "lp_mt_time = np.array([lp_mt_results[i]['time'] for i in denied_individuals])\n",
    "greedy_mt_time = np.array([greedy_mt_results[i]['time'] for i in denied_individuals])\n",
    "mapocam_mt_time = np.array([mapocam_mt_results[i]['time'] for i in denied_individuals])\n",
    "mapocam_mt_time_plus = np.array([mapocam_mt_results_plus[i]['time'] for i in denied_individuals])\n",
    "mapocam_mt_time_mon = np.array([mapocam_mt_results_mon[i]['time'] for i in denied_individuals])"
   ]
  },
  {
   "cell_type": "code",
   "execution_count": 62,
   "metadata": {},
   "outputs": [
    {
     "name": "stdout",
     "output_type": "stream",
     "text": [
      "Best solution rate:\n",
      "  MAPOCAM-M: 0.6595744680851063\n",
      "  MAPOCAM-N: 0.6595744680851063\n",
      "  MAPOCAM-P: 0.6595744680851063\n",
      "  greedy: 0.3829787234042553\n",
      "  mi-trees: 1.0\n",
      "Feasible rate: 1.0\n",
      "Time performance:\n",
      "  MAPOCAM-M: 0.029987214321389476\n",
      "  MAPOCAM-N: 0.6029779934448171\n",
      "  MAPOCAM-P: 0.07881459900415799\n",
      "  greedy: 0.052360878313614176\n",
      "  mi-trees: 0.03954265627544373\n",
      "\n"
     ]
    }
   ],
   "source": [
    "mon_tree_dict = {'Time performance':\n",
    "            {\n",
    "                'MAPOCAM-M': float(np.mean(mapocam_mt_time_mon)),\n",
    "                'MAPOCAM-P': float(np.mean(mapocam_mt_time_plus)),\n",
    "                'MAPOCAM-N': float(np.mean(mapocam_mt_time)),\n",
    "                'greedy': float(np.mean(greedy_mt_time)),\n",
    "                'mi-trees': float(np.mean(lp_mt_time)),\n",
    "            },\n",
    "            'Best solution rate':\n",
    "           {\n",
    "               'MAPOCAM-M':float(np.mean(mapocam_mt_costs_mon==best_costs_mt_rf)),\n",
    "               'MAPOCAM-P':float(np.mean(mapocam_mt_costs_plus==best_costs_mt_rf)),\n",
    "               'MAPOCAM-N':float(np.mean(mapocam_mt_costs==best_costs_mt_rf)),\n",
    "               'greedy': float(np.mean(greedy_mt_costs==best_costs_mt_rf)),\n",
    "               'mi-trees': float(np.mean(lp_mt_costs==best_costs_mt_rf)),\n",
    "           },\n",
    "             'Feasible rate':1-float(np.mean(np.isnan(mapocam_mt_costs_mon)))\n",
    "    \n",
    "}\n",
    "save_result(mon_tree_dict, 'pima', 'monotone-tree', 'MPC cost')"
   ]
  },
  {
   "cell_type": "markdown",
   "metadata": {},
   "source": [
    "## Comparing Pareto enumeration"
   ]
  },
  {
   "cell_type": "markdown",
   "metadata": {},
   "source": [
    "## Percentile vs changes"
   ]
  },
  {
   "cell_type": "code",
   "execution_count": 63,
   "metadata": {},
   "outputs": [
    {
     "name": "stderr",
     "output_type": "stream",
     "text": [
      "100%|██████████| 47/47 [00:12<00:00,  3.77it/s]\n"
     ]
    }
   ],
   "source": [
    "mapocam_mt_results_pc = {}\n",
    "for i in tqdm(denied_individuals):\n",
    "    individual = Xts.iloc[i].values\n",
    "    \n",
    "    start = time.perf_counter()\n",
    "    mapocam_clf_mt.fit(individual, action_set_mtree)\n",
    "    mapocam = MAPOCAM(action_set_mtree, individual,\n",
    "                      mapocam_clf_mt, max_changes=3,\n",
    "                      compare=PercentileChangesCriterion(individual, percCalc),\n",
    "                      recursive=False)\n",
    "    mapocam.fit()\n",
    "    mapocam_time = time.perf_counter()-start\n",
    "    \n",
    "    mapocam_mt_results_pc[i] = {}\n",
    "    mapocam_mt_results_pc[i]['enum'] = mapocam\n",
    "    mapocam_mt_results_pc[i]['time'] = mapocam_time\n",
    "    mapocam_mt_results_pc[i]['num'] = len(mapocam.solutions)"
   ]
  },
  {
   "cell_type": "code",
   "execution_count": 64,
   "metadata": {},
   "outputs": [
    {
     "name": "stderr",
     "output_type": "stream",
     "text": [
      "100%|██████████| 47/47 [00:02<00:00, 18.27it/s]\n"
     ]
    }
   ],
   "source": [
    "mapocam_mt_results_pc_plus = {}\n",
    "for i in tqdm(denied_individuals):\n",
    "    individual = Xts.iloc[i].values\n",
    "    \n",
    "    start = time.perf_counter()\n",
    "    mapocam_clf_mt_fast.fit(individual, action_set_mtree)\n",
    "    mapocam = MAPOCAM(action_set_mtree, individual,\n",
    "                      mapocam_clf_mt_fast, max_changes=3,\n",
    "                      compare=PercentileChangesCriterion(individual, percCalc),\n",
    "                      recursive=False)\n",
    "    mapocam.fit()\n",
    "    mapocam_time = time.perf_counter()-start\n",
    "    \n",
    "    mapocam_mt_results_pc_plus[i] = {}\n",
    "    mapocam_mt_results_pc_plus[i]['enum'] = mapocam\n",
    "    mapocam_mt_results_pc_plus[i]['time'] = mapocam_time\n",
    "    mapocam_mt_results_pc_plus[i]['num'] = len(mapocam.solutions)"
   ]
  },
  {
   "cell_type": "code",
   "execution_count": 65,
   "metadata": {},
   "outputs": [
    {
     "name": "stderr",
     "output_type": "stream",
     "text": [
      "100%|██████████| 47/47 [00:01<00:00, 42.78it/s]\n"
     ]
    }
   ],
   "source": [
    "mapocam_mt_results_pc_mon = {}\n",
    "for i in tqdm(denied_individuals):\n",
    "    individual = Xts.iloc[i].values\n",
    "    \n",
    "    start = time.perf_counter()\n",
    "    mapocam_clf_mt_mon.fit(individual, action_set_mtree)\n",
    "    mapocam = MAPOCAM(action_set_mtree, individual,\n",
    "                      mapocam_clf_mt_mon, max_changes=3,\n",
    "                      compare=PercentileChangesCriterion(individual, percCalc),\n",
    "                      recursive=False)\n",
    "    mapocam.fit()\n",
    "    mapocam_time = time.perf_counter()-start\n",
    "    \n",
    "    mapocam_mt_results_pc_mon[i] = {}\n",
    "    mapocam_mt_results_pc_mon[i]['enum'] = mapocam\n",
    "    mapocam_mt_results_pc_mon[i]['time'] = mapocam_time\n",
    "    mapocam_mt_results_pc_mon[i]['num'] = len(mapocam.solutions)"
   ]
  },
  {
   "cell_type": "code",
   "execution_count": 66,
   "metadata": {},
   "outputs": [
    {
     "name": "stderr",
     "output_type": "stream",
     "text": [
      "100%|██████████| 47/47 [00:02<00:00, 18.47it/s]\n"
     ]
    }
   ],
   "source": [
    "lp_mt_results_pc = {}\n",
    "for i in tqdm(denied_individuals):\n",
    "    individual = Xts.iloc[i].values\n",
    "    criteria = PercentileCriterion(individual, percCalc)\n",
    "    \n",
    "    start = time.perf_counter()\n",
    "    lp = ForestRecourseActions(action_set_mtree, individual, clf_mt, clf_type='lightgbm', threshold=threshold,\n",
    "                               max_changes=3, multi_solution=True,\n",
    "                               cost_type='linear', compare=PercentileChangesCriterion(individual, percCalc))\n",
    "    lp.build_model()\n",
    "    lp.fit()\n",
    "    lp_time = time.perf_counter()-start\n",
    "    \n",
    "    lp_mt_results_pc[i] = {}\n",
    "    lp_mt_results_pc[i]['enum'] = lp\n",
    "    lp_mt_results_pc[i]['time'] = lp_time\n",
    "    lp_mt_results_pc[i]['num'] = len(lp.solutions)"
   ]
  },
  {
   "cell_type": "code",
   "execution_count": 67,
   "metadata": {},
   "outputs": [
    {
     "name": "stderr",
     "output_type": "stream",
     "text": [
      "100%|██████████| 47/47 [00:41<00:00,  1.13it/s]\n"
     ]
    }
   ],
   "source": [
    "bf_mt_results_pc = {}\n",
    "for i in tqdm(denied_individuals):\n",
    "    individual = Xts.iloc[i].values\n",
    "    \n",
    "    start = time.perf_counter()\n",
    "    mapocam_clf_mt_fast.fit(individual, action_set_mtree)\n",
    "    bf = BruteForce(action_set_mtree, individual, mapocam_clf_mt_fast, max_changes=3, compare=PercentileChangesCriterion(individual, percCalc))\n",
    "    bf.fit()\n",
    "    bf_time = time.perf_counter()-start\n",
    "    \n",
    "    bf_mt_results_pc[i] = {}\n",
    "    bf_mt_results_pc[i]['enum'] = bf\n",
    "    bf_mt_results_pc[i]['time'] = bf_time\n",
    "    bf_mt_results_pc[i]['num'] = len(bf.solutions)"
   ]
  },
  {
   "cell_type": "code",
   "execution_count": 68,
   "metadata": {},
   "outputs": [],
   "source": [
    "brute_mt_sols_pc = np.array([bf_mt_results_pc[i]['num'] for i in denied_individuals])\n",
    "lp_mt_sols_pc = np.array([lp_mt_results_pc[i]['num'] for i in denied_individuals])\n",
    "mapocam_mt_sols_pc = np.array([mapocam_mt_results_pc[i]['num'] for i in denied_individuals])\n",
    "mapocam_mt_sols_pc_plus = np.array([mapocam_mt_results_pc_plus[i]['num'] for i in denied_individuals])\n",
    "mapocam_mt_sols_pc_mon = np.array([mapocam_mt_results_pc_mon[i]['num'] for i in denied_individuals])\n",
    "best_mt_sols_pc = brute_mt_sols_pc\n",
    "\n",
    "brute_mt_time_pc = np.array([bf_mt_results_pc[i]['time'] for i in denied_individuals])\n",
    "lp_mt_time_pc = np.array([lp_mt_results_pc[i]['time'] for i in denied_individuals])\n",
    "mapocam_mt_time_pc = np.array([mapocam_mt_results_pc[i]['time'] for i in denied_individuals])\n",
    "mapocam_mt_time_pc_plus = np.array([mapocam_mt_results_pc_plus[i]['time'] for i in denied_individuals])\n",
    "mapocam_mt_time_pc_mon = np.array([mapocam_mt_results_pc_mon[i]['time'] for i in denied_individuals])"
   ]
  },
  {
   "cell_type": "code",
   "execution_count": 69,
   "metadata": {},
   "outputs": [
    {
     "name": "stdout",
     "output_type": "stream",
     "text": [
      "Best solution rate:\n",
      "  MAPOCAM-M: 1.0\n",
      "  MAPOCAM-N: 1.0\n",
      "  MAPOCAM-P: 1.0\n",
      "  brute-force: 1.0\n",
      "  po-mi-trees: 0.7659574468085106\n",
      "Time performance:\n",
      "  MAPOCAM-M: 0.023012694233949197\n",
      "  MAPOCAM-N: 0.26400473899643945\n",
      "  MAPOCAM-P: 0.053945425798759813\n",
      "  brute-force: 0.8808671577283717\n",
      "  po-mi-trees: 0.053492203060081824\n",
      "\n"
     ]
    }
   ],
   "source": [
    "mon_tree_dict_pc = {'Time performance':\n",
    "            {\n",
    "                'MAPOCAM-M': float(np.mean(mapocam_mt_time_pc_mon)),\n",
    "                'MAPOCAM-P': float(np.mean(mapocam_mt_time_pc_plus)),\n",
    "                'MAPOCAM-N': float(np.mean(mapocam_mt_time_pc)),\n",
    "                'brute-force': float(np.mean(brute_mt_time_pc)),\n",
    "                'po-mi-trees': float(np.mean(lp_mt_time_pc)),\n",
    "            },\n",
    "            'Best solution rate':\n",
    "           {\n",
    "               'MAPOCAM-M':float(np.mean(mapocam_mt_sols_pc_plus==mapocam_mt_sols_pc_mon)),\n",
    "               'MAPOCAM-P':float(np.mean(mapocam_mt_sols_pc_plus==best_mt_sols_pc)),\n",
    "               'MAPOCAM-N':float(np.mean(mapocam_mt_sols_pc==best_mt_sols_pc)),\n",
    "               'brute-force': float(np.mean(brute_mt_sols_pc==best_mt_sols_pc)),\n",
    "               'po-mi-trees': float(np.mean(lp_mt_sols_pc==best_mt_sols_pc)),\n",
    "           }\n",
    "    \n",
    "}\n",
    "save_result(mon_tree_dict_pc, 'pima', 'monotone-tree', 'MPC vs. #changes')"
   ]
  },
  {
   "cell_type": "markdown",
   "metadata": {},
   "source": [
    "## Features"
   ]
  },
  {
   "cell_type": "code",
   "execution_count": 70,
   "metadata": {},
   "outputs": [
    {
     "name": "stderr",
     "output_type": "stream",
     "text": [
      "100%|██████████| 47/47 [00:17<00:00,  2.64it/s]\n"
     ]
    }
   ],
   "source": [
    "mapocam_mt_results_feat = {}\n",
    "for i in tqdm(denied_individuals):\n",
    "    individual = Xts.iloc[i].values\n",
    "    \n",
    "    start = time.perf_counter()\n",
    "    mapocam_clf_mt.fit(individual, action_set_mtree)\n",
    "    mapocam = MAPOCAM(action_set_mtree, individual, mapocam_clf_mt, max_changes=3, recursive=True)\n",
    "    mapocam.fit()\n",
    "    mapocam_time = time.perf_counter()-start\n",
    "    \n",
    "    mapocam_mt_results_feat[i] = {}\n",
    "    mapocam_mt_results_feat[i]['enum'] = mapocam\n",
    "    mapocam_mt_results_feat[i]['time'] = mapocam_time\n",
    "    mapocam_mt_results_feat[i]['num'] = len(mapocam.solutions)"
   ]
  },
  {
   "cell_type": "code",
   "execution_count": 71,
   "metadata": {},
   "outputs": [
    {
     "name": "stderr",
     "output_type": "stream",
     "text": [
      "100%|██████████| 47/47 [00:04<00:00,  9.62it/s]\n"
     ]
    }
   ],
   "source": [
    "mapocam_mt_results_feat_plus = {}\n",
    "for i in tqdm(denied_individuals):\n",
    "    individual = Xts.iloc[i].values\n",
    "    \n",
    "    start = time.perf_counter()\n",
    "    mapocam_clf_mt_fast.fit(individual, action_set_mtree)\n",
    "    mapocam = MAPOCAM(action_set_mtree, individual, mapocam_clf_mt_fast, max_changes=3, recursive=True)\n",
    "    mapocam.fit()\n",
    "    mapocam_time = time.perf_counter()-start\n",
    "    \n",
    "    mapocam_mt_results_feat_plus[i] = {}\n",
    "    mapocam_mt_results_feat_plus[i]['enum'] = mapocam\n",
    "    mapocam_mt_results_feat_plus[i]['time'] = mapocam_time\n",
    "    mapocam_mt_results_feat_plus[i]['num'] = len(mapocam.solutions)"
   ]
  },
  {
   "cell_type": "code",
   "execution_count": 72,
   "metadata": {},
   "outputs": [
    {
     "name": "stderr",
     "output_type": "stream",
     "text": [
      "100%|██████████| 47/47 [00:01<00:00, 24.96it/s]\n"
     ]
    }
   ],
   "source": [
    "mapocam_mt_results_feat_mon = {}\n",
    "for i in tqdm(denied_individuals):\n",
    "    individual = Xts.iloc[i].values\n",
    "    \n",
    "    start = time.perf_counter()\n",
    "    mapocam_clf_mt_mon.fit(individual, action_set_mtree)\n",
    "    mapocam = MAPOCAM(action_set_mtree, individual, mapocam_clf_mt_mon, max_changes=3, recursive=True)\n",
    "    mapocam.fit()\n",
    "    mapocam_time = time.perf_counter()-start\n",
    "    \n",
    "    mapocam_mt_results_feat_mon[i] = {}\n",
    "    mapocam_mt_results_feat_mon[i]['enum'] = mapocam\n",
    "    mapocam_mt_results_feat_mon[i]['time'] = mapocam_time\n",
    "    mapocam_mt_results_feat_mon[i]['num'] = len(mapocam.solutions)"
   ]
  },
  {
   "cell_type": "code",
   "execution_count": 73,
   "metadata": {},
   "outputs": [
    {
     "name": "stderr",
     "output_type": "stream",
     "text": [
      "100%|██████████| 47/47 [00:05<00:00,  9.22it/s]\n"
     ]
    }
   ],
   "source": [
    "lp_mt_results_feat = {}\n",
    "for i in tqdm(denied_individuals):\n",
    "    individual = Xts.iloc[i].values\n",
    "    criteria = PercentileCriterion(individual, percCalc)\n",
    "    \n",
    "    start = time.perf_counter()\n",
    "    lp = ForestRecourseActions(action_set_mtree, individual, clf_mt, clf_type='lightgbm', threshold=threshold,\n",
    "                               max_changes=3, multi_solution=True,\n",
    "                               cost_type='linear')\n",
    "    lp.build_model()\n",
    "    lp.fit()\n",
    "    lp_time = time.perf_counter()-start\n",
    "    \n",
    "    lp_mt_results_feat[i] = {}\n",
    "    lp_mt_results_feat[i]['enum'] = lp\n",
    "    lp_mt_results_feat[i]['time'] = lp_time\n",
    "    lp_mt_results_feat[i]['num'] = len(lp.solutions)"
   ]
  },
  {
   "cell_type": "code",
   "execution_count": 74,
   "metadata": {},
   "outputs": [
    {
     "name": "stderr",
     "output_type": "stream",
     "text": [
      "100%|██████████| 47/47 [00:43<00:00,  1.07it/s]\n"
     ]
    }
   ],
   "source": [
    "bf_mt_results_feat = {}\n",
    "for i in tqdm(denied_individuals):\n",
    "    individual = Xts.iloc[i].values\n",
    "    \n",
    "    start = time.perf_counter()\n",
    "    mapocam_clf_mt_fast.fit(individual, action_set_mtree)\n",
    "    bf = BruteForce(action_set_mtree, individual, mapocam_clf_mt_fast, max_changes=3)\n",
    "    bf.fit()\n",
    "    bf_time = time.perf_counter()-start\n",
    "    \n",
    "    bf_mt_results_feat[i] = {}\n",
    "    bf_mt_results_feat[i]['enum'] = bf\n",
    "    bf_mt_results_feat[i]['time'] = bf_time\n",
    "    bf_mt_results_feat[i]['num'] = len(bf.solutions)"
   ]
  },
  {
   "cell_type": "code",
   "execution_count": 75,
   "metadata": {},
   "outputs": [],
   "source": [
    "brute_mt_sols_feat = np.array([bf_mt_results_feat[i]['num'] for i in denied_individuals])\n",
    "lp_mt_sols_feat = np.array([lp_mt_results_feat[i]['num'] for i in denied_individuals])\n",
    "mapocam_mt_sols_feat = np.array([mapocam_mt_results_feat[i]['num'] for i in denied_individuals])\n",
    "mapocam_mt_sols_feat_plus = np.array([mapocam_mt_results_feat_plus[i]['num'] for i in denied_individuals])\n",
    "mapocam_mt_sols_feat_mon = np.array([mapocam_mt_results_feat_mon[i]['num'] for i in denied_individuals])\n",
    "best_mt_sols_feat = brute_mt_sols_feat\n",
    "\n",
    "brute_mt_time_feat = np.array([bf_mt_results_feat[i]['time'] for i in denied_individuals])\n",
    "lp_mt_time_feat = np.array([lp_mt_results_feat[i]['time'] for i in denied_individuals])\n",
    "mapocam_mt_time_feat = np.array([mapocam_mt_results_feat[i]['time'] for i in denied_individuals])\n",
    "mapocam_mt_time_feat_plus = np.array([mapocam_mt_results_feat_plus[i]['time'] for i in denied_individuals])\n",
    "mapocam_mt_time_feat_mon = np.array([mapocam_mt_results_feat_mon[i]['time'] for i in denied_individuals])"
   ]
  },
  {
   "cell_type": "code",
   "execution_count": 76,
   "metadata": {},
   "outputs": [
    {
     "name": "stdout",
     "output_type": "stream",
     "text": [
      "Best solution rate:\n",
      "  MAPOCAM-M: 1.0\n",
      "  MAPOCAM-N: 1.0\n",
      "  MAPOCAM-P: 1.0\n",
      "  brute-force: 1.0\n",
      "  po-mi-trees: 0.574468085106383\n",
      "Time performance:\n",
      "  MAPOCAM-M: 0.03952516834846044\n",
      "  MAPOCAM-N: 0.3772857200597076\n",
      "  MAPOCAM-P: 0.10315264202902054\n",
      "  brute-force: 0.933477472486668\n",
      "  po-mi-trees: 0.10770545364109839\n",
      "\n"
     ]
    }
   ],
   "source": [
    "mon_tree_dict_feat = {'Time performance':\n",
    "            {\n",
    "                'MAPOCAM-M': float(np.mean(mapocam_mt_time_feat_mon)),\n",
    "                'MAPOCAM-P': float(np.mean(mapocam_mt_time_feat_plus)),\n",
    "                'MAPOCAM-N': float(np.mean(mapocam_mt_time_feat)),\n",
    "                'brute-force': float(np.mean(brute_mt_time_feat)),\n",
    "                'po-mi-trees': float(np.mean(lp_mt_time_feat)),\n",
    "            },\n",
    "            'Best solution rate':\n",
    "           {\n",
    "               'MAPOCAM-M':float(np.mean(mapocam_mt_sols_feat_mon==best_mt_sols_feat)),\n",
    "               'MAPOCAM-P':float(np.mean(mapocam_mt_sols_feat_plus==best_mt_sols_feat)),\n",
    "               'MAPOCAM-N':float(np.mean(mapocam_mt_sols_feat==best_mt_sols_feat)),\n",
    "               'brute-force': float(np.mean(brute_mt_sols_feat==best_mt_sols_feat)),\n",
    "               'po-mi-trees': float(np.mean(lp_mt_sols_feat==best_mt_sols_feat)),\n",
    "           }\n",
    "    \n",
    "}\n",
    "save_result(mon_tree_dict_feat, 'pima', 'monotone-tree', 'feature')"
   ]
  },
  {
   "cell_type": "code",
   "execution_count": null,
   "metadata": {},
   "outputs": [],
   "source": []
  }
 ],
 "metadata": {
  "kernelspec": {
   "display_name": "Python 3",
   "language": "python",
   "name": "python3"
  },
  "language_info": {
   "codemirror_mode": {
    "name": "ipython",
    "version": 3
   },
   "file_extension": ".py",
   "mimetype": "text/x-python",
   "name": "python",
   "nbconvert_exporter": "python",
   "pygments_lexer": "ipython3",
   "version": "3.7.12"
  }
 },
 "nbformat": 4,
 "nbformat_minor": 4
}
