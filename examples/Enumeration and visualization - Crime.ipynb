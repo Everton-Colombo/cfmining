{
 "cells": [
  {
   "cell_type": "code",
   "execution_count": 1,
   "metadata": {},
   "outputs": [],
   "source": [
    "import numpy as np\n",
    "import pandas as pd\n",
    "import geopandas as gpd\n",
    "import matplotlib.pyplot as plt\n",
    "import plotly.express as px\n",
    "import plotly.graph_objects as go\n",
    "\n",
    "\n",
    "from sklearn import preprocessing, pipeline\n",
    "from sklearn.model_selection import train_test_split\n",
    "\n",
    "from sklearn.metrics import roc_auc_score\n",
    "from sklearn.linear_model import LogisticRegression\n",
    "from sklearn.model_selection import GridSearchCV\n",
    "import time\n",
    "\n",
    "from cfmining.algorithms import MAPOCAM, BruteForce, Greedy, ActionsEnumerator\n",
    "from cfmining.criteria import PercentileCalculator, PercentileCriterion, PercentileChangesCriterion, NonDomCriterion\n",
    "from cfmining.predictors import MonotoneClassifier\n",
    "from cfmining.visualization import buildTable, FeatureImportance, PlotCounterfactuals\n",
    "from cfmining.mip_builder import RecourseBuilder\n",
    "from cfmining.action_set import ActionSet"
   ]
  },
  {
   "cell_type": "code",
   "execution_count": 2,
   "metadata": {},
   "outputs": [],
   "source": [
    "import folium"
   ]
  },
  {
   "cell_type": "code",
   "execution_count": 3,
   "metadata": {},
   "outputs": [],
   "source": [
    "%load_ext autoreload\n",
    "%autoreload 2\n",
    "%load_ext line_profiler"
   ]
  },
  {
   "cell_type": "markdown",
   "metadata": {},
   "source": [
    "# Read in the data"
   ]
  },
  {
   "cell_type": "code",
   "execution_count": 4,
   "metadata": {},
   "outputs": [],
   "source": [
    "data_path = \"../../SPdata/Dados_Tratados/base_de_dados.csv\"\n",
    "## load and process data\n",
    "crime_df = pd.read_csv(data_path, index_col=0)#.reset_index(drop=True)\n",
    "crime_df = crime_df.drop('Cluster', axis=1)\n",
    "crime_df = crime_df.drop('Homicides', axis=1)\n",
    "#crime_df = crime_df.drop('Favelas', axis=1)\n",
    "\n",
    "crime_df['Population'] = crime_df['Population']/1000\n",
    "crime_df['Passengers'] = crime_df['Passengers']/1000\n",
    "crime_df['BusStops'] = crime_df['BusStops']/1000\n",
    "\n",
    "### fixing values\n",
    "crime_df['GarbageCollection'] = crime_df['GarbageCollection']/crime_df['GarbageCollection'].max()\n",
    "crime_df['SewageCollection'] = crime_df['SewageCollection']/crime_df['SewageCollection'].max()\n",
    "#crime_df['ImprovisedHousing'] = crime_df['ImprovisedHousing']/crime_df['ImprovisedHousing'].max()\n",
    "crime_df[crime_df['ImprovisedHousing']>1]=1\n",
    "crime_df['PermanentHousing'] = crime_df['PermanentHousing']/crime_df['PermanentHousing'].max()\n",
    "crime_df['LiterateHouseHolder'] = crime_df['LiterateHouseHolder']/crime_df['LiterateHouseHolder'].max()\n",
    "crime_df['WaterSupply'] = crime_df['WaterSupply']/crime_df['WaterSupply'].max()\n",
    "\n",
    "raux = (crime_df['Crimes']/(1+crime_df['Population']))#[crime_df['POP10']>=100]\n",
    "aaux = crime_df['Crimes']\n",
    "Xaux = crime_df.drop('Crimes', axis=1)#[crime_df['POP10']>=100]\n",
    "\n",
    "\n",
    "perc = 97\n",
    "absolute=True\n",
    "if absolute:\n",
    "    y = (aaux<np.percentile(aaux, perc))\n",
    "else:\n",
    "    y = (raux<np.percentile(raux, perc))\n",
    "ya = (aaux<np.percentile(aaux, perc))\n",
    "yr = (raux<np.percentile(raux, perc))\n",
    "r  = raux\n",
    "a = aaux\n",
    "X = Xaux"
   ]
  },
  {
   "cell_type": "code",
   "execution_count": 5,
   "metadata": {},
   "outputs": [
    {
     "data": {
      "text/html": [
       "<div>\n",
       "<style scoped>\n",
       "    .dataframe tbody tr th:only-of-type {\n",
       "        vertical-align: middle;\n",
       "    }\n",
       "\n",
       "    .dataframe tbody tr th {\n",
       "        vertical-align: top;\n",
       "    }\n",
       "\n",
       "    .dataframe thead th {\n",
       "        text-align: right;\n",
       "    }\n",
       "</style>\n",
       "<table border=\"1\" class=\"dataframe\">\n",
       "  <thead>\n",
       "    <tr style=\"text-align: right;\">\n",
       "      <th></th>\n",
       "      <th>Passengers</th>\n",
       "      <th>TravelingTime</th>\n",
       "      <th>HighRiskAreas</th>\n",
       "      <th>FontainArea</th>\n",
       "      <th>ExpansionPhase</th>\n",
       "      <th>Population</th>\n",
       "      <th>Favelas</th>\n",
       "      <th>WaterSupply</th>\n",
       "      <th>HighIncomeHolder</th>\n",
       "      <th>LiterateHouseHolder</th>\n",
       "      <th>WomanHouseHolder</th>\n",
       "      <th>PopulationDensity</th>\n",
       "      <th>ImprovisedHousing</th>\n",
       "      <th>PermanentHousing</th>\n",
       "      <th>SewageCollection</th>\n",
       "      <th>GarbageCollection</th>\n",
       "      <th>YoungManRate</th>\n",
       "      <th>Verticalization</th>\n",
       "      <th>Bars</th>\n",
       "      <th>Schools</th>\n",
       "      <th>BusStops</th>\n",
       "      <th>Crimes</th>\n",
       "    </tr>\n",
       "  </thead>\n",
       "  <tbody>\n",
       "    <tr>\n",
       "      <th>General</th>\n",
       "      <td>1.240959</td>\n",
       "      <td>34.387126</td>\n",
       "      <td>0.284335</td>\n",
       "      <td>0.105471</td>\n",
       "      <td>3.173218</td>\n",
       "      <td>0.605083</td>\n",
       "      <td>0.105471</td>\n",
       "      <td>0.873114</td>\n",
       "      <td>0.029433</td>\n",
       "      <td>0.891505</td>\n",
       "      <td>0.438488</td>\n",
       "      <td>2.499868</td>\n",
       "      <td>0.000831</td>\n",
       "      <td>0.942853</td>\n",
       "      <td>0.920428</td>\n",
       "      <td>0.912026</td>\n",
       "      <td>0.073570</td>\n",
       "      <td>0.263343</td>\n",
       "      <td>0.498760</td>\n",
       "      <td>0.361262</td>\n",
       "      <td>0.042993</td>\n",
       "      <td>53.203398</td>\n",
       "    </tr>\n",
       "    <tr>\n",
       "      <th>Absolute</th>\n",
       "      <td>1.892299</td>\n",
       "      <td>35.554130</td>\n",
       "      <td>0.137083</td>\n",
       "      <td>0.047452</td>\n",
       "      <td>2.355009</td>\n",
       "      <td>0.604587</td>\n",
       "      <td>0.003515</td>\n",
       "      <td>0.891609</td>\n",
       "      <td>0.033507</td>\n",
       "      <td>0.910543</td>\n",
       "      <td>0.435103</td>\n",
       "      <td>1.492091</td>\n",
       "      <td>0.002982</td>\n",
       "      <td>0.926698</td>\n",
       "      <td>0.923348</td>\n",
       "      <td>0.918093</td>\n",
       "      <td>0.060365</td>\n",
       "      <td>0.356381</td>\n",
       "      <td>3.483304</td>\n",
       "      <td>0.994728</td>\n",
       "      <td>0.394707</td>\n",
       "      <td>550.541301</td>\n",
       "    </tr>\n",
       "    <tr>\n",
       "      <th>Relative</th>\n",
       "      <td>1.868773</td>\n",
       "      <td>35.418278</td>\n",
       "      <td>0.128295</td>\n",
       "      <td>0.040422</td>\n",
       "      <td>2.381371</td>\n",
       "      <td>0.514494</td>\n",
       "      <td>0.003515</td>\n",
       "      <td>0.891344</td>\n",
       "      <td>0.034184</td>\n",
       "      <td>0.910397</td>\n",
       "      <td>0.438130</td>\n",
       "      <td>1.395431</td>\n",
       "      <td>0.002543</td>\n",
       "      <td>0.927443</td>\n",
       "      <td>0.923311</td>\n",
       "      <td>0.918008</td>\n",
       "      <td>0.060975</td>\n",
       "      <td>0.353825</td>\n",
       "      <td>3.623902</td>\n",
       "      <td>0.989455</td>\n",
       "      <td>0.389185</td>\n",
       "      <td>543.312830</td>\n",
       "    </tr>\n",
       "  </tbody>\n",
       "</table>\n",
       "</div>"
      ],
      "text/plain": [
       "          Passengers  TravelingTime  HighRiskAreas  FontainArea  \\\n",
       "General     1.240959      34.387126       0.284335     0.105471   \n",
       "Absolute    1.892299      35.554130       0.137083     0.047452   \n",
       "Relative    1.868773      35.418278       0.128295     0.040422   \n",
       "\n",
       "          ExpansionPhase  Population   Favelas  WaterSupply  HighIncomeHolder  \\\n",
       "General         3.173218    0.605083  0.105471     0.873114          0.029433   \n",
       "Absolute        2.355009    0.604587  0.003515     0.891609          0.033507   \n",
       "Relative        2.381371    0.514494  0.003515     0.891344          0.034184   \n",
       "\n",
       "          LiterateHouseHolder  WomanHouseHolder  PopulationDensity  \\\n",
       "General              0.891505          0.438488           2.499868   \n",
       "Absolute             0.910543          0.435103           1.492091   \n",
       "Relative             0.910397          0.438130           1.395431   \n",
       "\n",
       "          ImprovisedHousing  PermanentHousing  SewageCollection  \\\n",
       "General            0.000831          0.942853          0.920428   \n",
       "Absolute           0.002982          0.926698          0.923348   \n",
       "Relative           0.002543          0.927443          0.923311   \n",
       "\n",
       "          GarbageCollection  YoungManRate  Verticalization      Bars  \\\n",
       "General            0.912026      0.073570         0.263343  0.498760   \n",
       "Absolute           0.918093      0.060365         0.356381  3.483304   \n",
       "Relative           0.918008      0.060975         0.353825  3.623902   \n",
       "\n",
       "           Schools  BusStops      Crimes  \n",
       "General   0.361262  0.042993   53.203398  \n",
       "Absolute  0.994728  0.394707  550.541301  \n",
       "Relative  0.989455  0.389185  543.312830  "
      ]
     },
     "execution_count": 5,
     "metadata": {},
     "output_type": "execute_result"
    }
   ],
   "source": [
    "pd.set_option('display.max_columns', 30)\n",
    "stats_df = pd.DataFrame(columns=crime_df.columns)\n",
    "stats_df.loc['General'] = crime_df.mean()\n",
    "stats_df.loc['Absolute'] = crime_df[~ya].mean()\n",
    "stats_df.loc['Relative'] = crime_df[~yr].mean()\n",
    "stats_df"
   ]
  },
  {
   "cell_type": "code",
   "execution_count": 6,
   "metadata": {},
   "outputs": [],
   "source": [
    "plt.rcParams[\"figure.figsize\"] = [6.0,4.0]"
   ]
  },
  {
   "cell_type": "code",
   "execution_count": 7,
   "metadata": {},
   "outputs": [
    {
     "data": {
      "image/png": "[encoded data removed]",
      "text/plain": [
       "<Figure size 432x288 with 1 Axes>"
      ]
     },
     "metadata": {
      "needs_background": "light"
     },
     "output_type": "display_data"
    }
   ],
   "source": [
    "plt.scatter(crime_df['Population'], crime_df['Crimes'])\n",
    "plt.scatter(crime_df['Population'][~ya], crime_df['Crimes'][~ya]);"
   ]
  },
  {
   "cell_type": "code",
   "execution_count": 8,
   "metadata": {},
   "outputs": [
    {
     "data": {
      "image/png": "[encoded data removed]",
      "text/plain": [
       "<Figure size 432x288 with 1 Axes>"
      ]
     },
     "metadata": {
      "needs_background": "light"
     },
     "output_type": "display_data"
    }
   ],
   "source": [
    "plt.scatter(crime_df['Population'], crime_df['Crimes'])\n",
    "plt.scatter(crime_df['Population'][~yr], crime_df['Crimes'][~yr]);"
   ]
  },
  {
   "cell_type": "code",
   "execution_count": 9,
   "metadata": {},
   "outputs": [],
   "source": [
    "sector_shapes = gpd.read_file(\"../../SPdata/Dados_Brutos/Marcelo/Setores/CEMEAI_1/PL_MSP_SETOR_10_CEM_pol.shp\")\n",
    "sector_shapes['CODSETOR'] = sector_shapes['CODSETOR'].astype(int)\n",
    "sector_shapes = sector_shapes.set_index('CODSETOR', drop=False);"
   ]
  },
  {
   "cell_type": "code",
   "execution_count": 10,
   "metadata": {},
   "outputs": [],
   "source": [
    "crime_indexes = crime_df[~y].index\n",
    "crime_indexesr = crime_df[~yr].index\n",
    "crime_indexesc = crime_df[~ya].index"
   ]
  },
  {
   "cell_type": "code",
   "execution_count": 11,
   "metadata": {},
   "outputs": [],
   "source": [
    "syr = (~yr).reindex(sector_shapes.index).fillna(False)\n",
    "plot_sector = sector_shapes.loc[syr,:]\n",
    "crim_df_plot = crime_df.loc[~yr].reset_index().rename(columns={'index': 'CODSETOR'})\n",
    "crim_df_plot['NOM_DI'] = [plot_sector.loc[idx, 'NOM_DI'] for idx in crim_df_plot['CODSETOR']]"
   ]
  },
  {
   "cell_type": "code",
   "execution_count": 12,
   "metadata": {},
   "outputs": [
    {
     "data": {
      "application/vnd.jupyter.widget-view+json": {
       "model_id": "52e52620bc0d40d38dc8292567a631f0",
       "version_major": 2,
       "version_minor": 0
      },
      "text/plain": [
       "FigureWidget({\n",
       "    'data': [{'coloraxis': 'coloraxis',\n",
       "              'customdata': array([['ALTO DE PINHEIROS'…"
      ]
     },
     "metadata": {},
     "output_type": "display_data"
    }
   ],
   "source": [
    "fig = px.choropleth_mapbox(crim_df_plot, geojson=plot_sector, locations='CODSETOR', color='Crimes',\n",
    "                           color_continuous_scale=\"Viridis\",\n",
    "                           range_color=(0, 12),\n",
    "                           mapbox_style=\"carto-positron\",\n",
    "                           zoom=10, center = {\"lat\": -23.6, \"lon\": -46.55},\n",
    "                           opacity=0.5,\n",
    "                           hover_data = ['NOM_DI'],\n",
    "                           labels={'Crimes':'Number of crimes', \n",
    "                                   'NOM_DI':'Region Name'}\n",
    "                          )\n",
    "fig = go.FigureWidget(fig)\n",
    "fig.update_layout(margin={\"r\":0,\"t\":0,\"l\":0,\"b\":0})\n",
    "#choices = []\n",
    "#def update_point(trace, points, selector):\n",
    "#    global choices\n",
    "#    if len(choices)<3:\n",
    "#        choices +=[crim_df_plot.iloc[points.point_inds[0],:]['CODSETOR']]\n",
    "#        print('Choice number ',len(choices),':',choices[-1], plot_sector.loc[choices[-1], 'NOM_DI'])\n",
    "#        print(clf_logreg.predict_proba([X.loc[choices[-1]].values])[:, 1])\n",
    "#    else:\n",
    "#        print('All choices made')\n",
    "#fig.data[0].on_click(update_point)\n",
    "\n",
    "fig"
   ]
  },
  {
   "cell_type": "code",
   "execution_count": 13,
   "metadata": {},
   "outputs": [],
   "source": [
    "random_state = 1762#np.random.randint(10000)\n",
    "Xtr, Xts, ytr, yts, rtr, rts, ctr, cts = train_test_split(X, y, r, a, test_size=100, random_state=random_state)"
   ]
  },
  {
   "cell_type": "markdown",
   "metadata": {},
   "source": [
    "# Train model"
   ]
  },
  {
   "cell_type": "markdown",
   "metadata": {},
   "source": [
    "Ok great, now let's get into the meat of it. Let's train up a model as see what recourse exists."
   ]
  },
  {
   "cell_type": "code",
   "execution_count": 14,
   "metadata": {},
   "outputs": [],
   "source": [
    "## grid search\n",
    "stand = preprocessing.StandardScaler()\n",
    "clf_base = LogisticRegression(max_iter=1000, class_weight='balanced', solver='lbfgs')\n",
    "clf = pipeline.Pipeline([('std', stand), ('clf', clf_base)])\n",
    "\n",
    "grid = GridSearchCV(\n",
    "  clf, param_grid={'clf__C': np.logspace(-10, 10)},\n",
    "  cv=5,\n",
    "  scoring='roc_auc',\n",
    "  verbose=0\n",
    ")\n",
    "\n",
    "grid.fit(Xtr, ytr)\n",
    "clf_logreg = grid.best_estimator_"
   ]
  },
  {
   "cell_type": "code",
   "execution_count": 15,
   "metadata": {},
   "outputs": [
    {
     "name": "stdout",
     "output_type": "stream",
     "text": [
      "AUC performance: 0.8578947368421054\n"
     ]
    }
   ],
   "source": [
    "print('AUC performance:', roc_auc_score(yts, clf_logreg.predict(Xts)))"
   ]
  },
  {
   "cell_type": "markdown",
   "metadata": {},
   "source": [
    "## Preparing classifiers to be actionable"
   ]
  },
  {
   "cell_type": "code",
   "execution_count": 16,
   "metadata": {},
   "outputs": [
    {
     "name": "stderr",
     "output_type": "stream",
     "text": [
      "/home/marcos/Documents/Experiments/envs/crime/lib/python3.7/site-packages/sklearn/utils/deprecation.py:143: FutureWarning:\n",
      "\n",
      "The sklearn.metrics.scorer module is  deprecated in version 0.22 and will be removed in version 0.24. The corresponding classes / functions should instead be imported from sklearn.metrics. Anything that cannot be imported from sklearn.metrics is now part of the private API.\n",
      "\n",
      "/home/marcos/Documents/Experiments/envs/crime/lib/python3.7/site-packages/sklearn/utils/deprecation.py:143: FutureWarning:\n",
      "\n",
      "The sklearn.feature_selection.base module is  deprecated in version 0.22 and will be removed in version 0.24. The corresponding classes / functions should instead be imported from sklearn.feature_selection. Anything that cannot be imported from sklearn.feature_selection is now part of the private API.\n",
      "\n"
     ]
    }
   ],
   "source": [
    "clf_logreg_ = MonotoneClassifier(clf_logreg, Xtr, ytr, threshold=0.8)\n",
    "coefficients = clf_logreg['clf'].coef_[0]/clf_logreg['std'].scale_\n",
    "intercept = clf_logreg['clf'].intercept_[0]-coefficients@clf_logreg['std'].mean_"
   ]
  },
  {
   "cell_type": "markdown",
   "metadata": {},
   "source": [
    "## Preparing action set"
   ]
  },
  {
   "cell_type": "code",
   "execution_count": 17,
   "metadata": {},
   "outputs": [],
   "source": [
    "action_set = ActionSet(X = X)\n",
    "action_set.embed_linear_clf(coefficients=coefficients)\n",
    "for feat in action_set:\n",
    "    if feat.name in ['HighRiskAreas', 'FontainArea', 'ExpansionPhase', 'PopulationDensity']:\n",
    "        feat.step_type =\"absolute\"\n",
    "        feat.step_size = 1\n",
    "    elif feat.name in ['ImprovisedHouse', 'WaterSupply', 'PermanentHouse', 'SewageCollection',\n",
    "                       'GarbageCollection', 'WomanHouseHolder', 'YoungManRate', 'Verticalization']:\n",
    "        feat.step_type =\"relative\"\n",
    "        feat.step_size = 1/6\n",
    "    else:\n",
    "        feat.step_type =\"relative\"\n",
    "        feat.step_size = 0.1\n",
    "    feat.update_grid()"
   ]
  },
  {
   "cell_type": "code",
   "execution_count": 18,
   "metadata": {},
   "outputs": [
    {
     "data": {
      "text/html": [
       "<div>\n",
       "<style scoped>\n",
       "    .dataframe tbody tr th:only-of-type {\n",
       "        vertical-align: middle;\n",
       "    }\n",
       "\n",
       "    .dataframe tbody tr th {\n",
       "        vertical-align: top;\n",
       "    }\n",
       "\n",
       "    .dataframe thead th {\n",
       "        text-align: right;\n",
       "    }\n",
       "</style>\n",
       "<table border=\"1\" class=\"dataframe\">\n",
       "  <thead>\n",
       "    <tr style=\"text-align: right;\">\n",
       "      <th></th>\n",
       "      <th>Coefficients</th>\n",
       "    </tr>\n",
       "  </thead>\n",
       "  <tbody>\n",
       "    <tr>\n",
       "      <th>Passengers</th>\n",
       "      <td>-0.403762</td>\n",
       "    </tr>\n",
       "    <tr>\n",
       "      <th>TravelingTime</th>\n",
       "      <td>-0.003363</td>\n",
       "    </tr>\n",
       "    <tr>\n",
       "      <th>HighRiskAreas</th>\n",
       "      <td>0.018377</td>\n",
       "    </tr>\n",
       "    <tr>\n",
       "      <th>FontainArea</th>\n",
       "      <td>0.435443</td>\n",
       "    </tr>\n",
       "    <tr>\n",
       "      <th>ExpansionPhase</th>\n",
       "      <td>0.404366</td>\n",
       "    </tr>\n",
       "    <tr>\n",
       "      <th>Population</th>\n",
       "      <td>-0.724454</td>\n",
       "    </tr>\n",
       "    <tr>\n",
       "      <th>Favelas</th>\n",
       "      <td>1.006129</td>\n",
       "    </tr>\n",
       "    <tr>\n",
       "      <th>WaterSupply</th>\n",
       "      <td>0.079228</td>\n",
       "    </tr>\n",
       "    <tr>\n",
       "      <th>HighIncomeHolder</th>\n",
       "      <td>4.873752</td>\n",
       "    </tr>\n",
       "    <tr>\n",
       "      <th>LiterateHouseHolder</th>\n",
       "      <td>0.510315</td>\n",
       "    </tr>\n",
       "    <tr>\n",
       "      <th>WomanHouseHolder</th>\n",
       "      <td>0.308811</td>\n",
       "    </tr>\n",
       "    <tr>\n",
       "      <th>PopulationDensity</th>\n",
       "      <td>0.730640</td>\n",
       "    </tr>\n",
       "    <tr>\n",
       "      <th>ImprovisedHousing</th>\n",
       "      <td>-4.320633</td>\n",
       "    </tr>\n",
       "    <tr>\n",
       "      <th>PermanentHousing</th>\n",
       "      <td>1.779829</td>\n",
       "    </tr>\n",
       "    <tr>\n",
       "      <th>SewageCollection</th>\n",
       "      <td>-4.066854</td>\n",
       "    </tr>\n",
       "    <tr>\n",
       "      <th>GarbageCollection</th>\n",
       "      <td>0.965748</td>\n",
       "    </tr>\n",
       "    <tr>\n",
       "      <th>YoungManRate</th>\n",
       "      <td>6.270840</td>\n",
       "    </tr>\n",
       "    <tr>\n",
       "      <th>Verticalization</th>\n",
       "      <td>-1.261592</td>\n",
       "    </tr>\n",
       "    <tr>\n",
       "      <th>Bars</th>\n",
       "      <td>-0.104858</td>\n",
       "    </tr>\n",
       "    <tr>\n",
       "      <th>Schools</th>\n",
       "      <td>-0.158343</td>\n",
       "    </tr>\n",
       "    <tr>\n",
       "      <th>BusStops</th>\n",
       "      <td>-13.758849</td>\n",
       "    </tr>\n",
       "  </tbody>\n",
       "</table>\n",
       "</div>"
      ],
      "text/plain": [
       "                     Coefficients\n",
       "Passengers              -0.403762\n",
       "TravelingTime           -0.003363\n",
       "HighRiskAreas            0.018377\n",
       "FontainArea              0.435443\n",
       "ExpansionPhase           0.404366\n",
       "Population              -0.724454\n",
       "Favelas                  1.006129\n",
       "WaterSupply              0.079228\n",
       "HighIncomeHolder         4.873752\n",
       "LiterateHouseHolder      0.510315\n",
       "WomanHouseHolder         0.308811\n",
       "PopulationDensity        0.730640\n",
       "ImprovisedHousing       -4.320633\n",
       "PermanentHousing         1.779829\n",
       "SewageCollection        -4.066854\n",
       "GarbageCollection        0.965748\n",
       "YoungManRate             6.270840\n",
       "Verticalization         -1.261592\n",
       "Bars                    -0.104858\n",
       "Schools                 -0.158343\n",
       "BusStops               -13.758849"
      ]
     },
     "execution_count": 18,
     "metadata": {},
     "output_type": "execute_result"
    }
   ],
   "source": [
    "pd_coef = pd.Series(coefficients, index=X.columns).to_frame('Coefficients')\n",
    "pd_coef"
   ]
  },
  {
   "cell_type": "markdown",
   "metadata": {},
   "source": [
    "## Preparing sample to be actionable"
   ]
  },
  {
   "cell_type": "code",
   "execution_count": 19,
   "metadata": {},
   "outputs": [],
   "source": [
    "scores = pd.Series(clf_logreg.predict_proba(X)[:, 1], index=X.index)\n",
    "denied_individuals = scores.loc[lambda s: (s < .79)&(s > .7)].index"
   ]
  },
  {
   "cell_type": "code",
   "execution_count": 20,
   "metadata": {},
   "outputs": [],
   "source": [
    "choices = [355030846000242, 355030810000012, 355030862000053]"
   ]
  },
  {
   "cell_type": "code",
   "execution_count": 21,
   "metadata": {},
   "outputs": [],
   "source": [
    "choice = 355030846000242\n",
    "#choice = choices[1]\n",
    "#choice = np.random.choice(denied_individuals)\n",
    "individual = X.loc[choice].values"
   ]
  },
  {
   "cell_type": "markdown",
   "metadata": {},
   "source": [
    "## Preparing criteria"
   ]
  },
  {
   "cell_type": "code",
   "execution_count": 22,
   "metadata": {},
   "outputs": [],
   "source": [
    "percCalc = PercentileCalculator(action_set=action_set)\n",
    "percCriteria = PercentileCriterion(individual, percCalc)\n",
    "percChCriteria = PercentileChangesCriterion(individual, percCalc)"
   ]
  },
  {
   "cell_type": "markdown",
   "metadata": {},
   "source": [
    "## Generate original recourse"
   ]
  },
  {
   "cell_type": "code",
   "execution_count": 23,
   "metadata": {},
   "outputs": [],
   "source": [
    "p = .8\n",
    "rb = RecourseBuilder(\n",
    "      optimizer=\"cplex\",\n",
    "      coefficients=coefficients,\n",
    "      intercept=intercept- (np.log(p / (1. - p))),\n",
    "      action_set=action_set,\n",
    "      x=np.array(individual)\n",
    ")\n",
    "\n",
    "build_info, indices = rb._get_mip_build_info()\n",
    "output_1 = rb.fit()"
   ]
  },
  {
   "cell_type": "code",
   "execution_count": 24,
   "metadata": {},
   "outputs": [
    {
     "name": "stdout",
     "output_type": "stream",
     "text": [
      "Number of actions 2\n"
     ]
    },
    {
     "data": {
      "text/html": [
       "<div>\n",
       "<style scoped>\n",
       "    .dataframe tbody tr th:only-of-type {\n",
       "        vertical-align: middle;\n",
       "    }\n",
       "\n",
       "    .dataframe tbody tr th {\n",
       "        vertical-align: top;\n",
       "    }\n",
       "\n",
       "    .dataframe thead th {\n",
       "        text-align: right;\n",
       "    }\n",
       "</style>\n",
       "<table border=\"1\" class=\"dataframe\">\n",
       "  <thead>\n",
       "    <tr style=\"text-align: right;\">\n",
       "      <th></th>\n",
       "      <th>Actions</th>\n",
       "    </tr>\n",
       "  </thead>\n",
       "  <tbody>\n",
       "    <tr>\n",
       "      <th>Passengers</th>\n",
       "      <td>0.000000</td>\n",
       "    </tr>\n",
       "    <tr>\n",
       "      <th>TravelingTime</th>\n",
       "      <td>0.000000</td>\n",
       "    </tr>\n",
       "    <tr>\n",
       "      <th>HighRiskAreas</th>\n",
       "      <td>1.000000</td>\n",
       "    </tr>\n",
       "    <tr>\n",
       "      <th>FontainArea</th>\n",
       "      <td>0.000000</td>\n",
       "    </tr>\n",
       "    <tr>\n",
       "      <th>ExpansionPhase</th>\n",
       "      <td>-0.000000</td>\n",
       "    </tr>\n",
       "    <tr>\n",
       "      <th>Population</th>\n",
       "      <td>0.000000</td>\n",
       "    </tr>\n",
       "    <tr>\n",
       "      <th>Favelas</th>\n",
       "      <td>-0.000000</td>\n",
       "    </tr>\n",
       "    <tr>\n",
       "      <th>WaterSupply</th>\n",
       "      <td>-0.000000</td>\n",
       "    </tr>\n",
       "    <tr>\n",
       "      <th>HighIncomeHolder</th>\n",
       "      <td>0.000000</td>\n",
       "    </tr>\n",
       "    <tr>\n",
       "      <th>LiterateHouseHolder</th>\n",
       "      <td>0.000000</td>\n",
       "    </tr>\n",
       "    <tr>\n",
       "      <th>WomanHouseHolder</th>\n",
       "      <td>0.000000</td>\n",
       "    </tr>\n",
       "    <tr>\n",
       "      <th>PopulationDensity</th>\n",
       "      <td>-0.000000</td>\n",
       "    </tr>\n",
       "    <tr>\n",
       "      <th>ImprovisedHousing</th>\n",
       "      <td>0.000000</td>\n",
       "    </tr>\n",
       "    <tr>\n",
       "      <th>PermanentHousing</th>\n",
       "      <td>0.014188</td>\n",
       "    </tr>\n",
       "    <tr>\n",
       "      <th>SewageCollection</th>\n",
       "      <td>0.000000</td>\n",
       "    </tr>\n",
       "    <tr>\n",
       "      <th>GarbageCollection</th>\n",
       "      <td>0.000000</td>\n",
       "    </tr>\n",
       "    <tr>\n",
       "      <th>YoungManRate</th>\n",
       "      <td>0.000000</td>\n",
       "    </tr>\n",
       "    <tr>\n",
       "      <th>Verticalization</th>\n",
       "      <td>0.000000</td>\n",
       "    </tr>\n",
       "    <tr>\n",
       "      <th>Bars</th>\n",
       "      <td>0.000000</td>\n",
       "    </tr>\n",
       "    <tr>\n",
       "      <th>Schools</th>\n",
       "      <td>0.000000</td>\n",
       "    </tr>\n",
       "    <tr>\n",
       "      <th>BusStops</th>\n",
       "      <td>0.000000</td>\n",
       "    </tr>\n",
       "  </tbody>\n",
       "</table>\n",
       "</div>"
      ],
      "text/plain": [
       "                      Actions\n",
       "Passengers           0.000000\n",
       "TravelingTime        0.000000\n",
       "HighRiskAreas        1.000000\n",
       "FontainArea          0.000000\n",
       "ExpansionPhase      -0.000000\n",
       "Population           0.000000\n",
       "Favelas             -0.000000\n",
       "WaterSupply         -0.000000\n",
       "HighIncomeHolder     0.000000\n",
       "LiterateHouseHolder  0.000000\n",
       "WomanHouseHolder     0.000000\n",
       "PopulationDensity   -0.000000\n",
       "ImprovisedHousing    0.000000\n",
       "PermanentHousing     0.014188\n",
       "SewageCollection     0.000000\n",
       "GarbageCollection    0.000000\n",
       "YoungManRate         0.000000\n",
       "Verticalization      0.000000\n",
       "Bars                 0.000000\n",
       "Schools              0.000000\n",
       "BusStops             0.000000"
      ]
     },
     "execution_count": 24,
     "metadata": {},
     "output_type": "execute_result"
    }
   ],
   "source": [
    "print('Number of actions', sum(output_1['actions']!=0))\n",
    "pd.Series(output_1['actions'], index=X.columns).to_frame('Actions')"
   ]
  },
  {
   "cell_type": "markdown",
   "metadata": {},
   "source": [
    "## Enumerate recourse"
   ]
  },
  {
   "cell_type": "code",
   "execution_count": 25,
   "metadata": {},
   "outputs": [
    {
     "name": "stdout",
     "output_type": "stream",
     "text": [
      "Elapsed time: 0.12684599682688713\n"
     ]
    }
   ],
   "source": [
    "en_nd_feat = MAPOCAM(action_set, individual, clf_logreg_, max_changes=3, recursive=True)\n",
    "start = time.perf_counter()\n",
    "en_nd_feat.fit()\n",
    "print('Elapsed time:', time.perf_counter()-start)"
   ]
  },
  {
   "cell_type": "markdown",
   "metadata": {},
   "source": [
    "## Recourses summary"
   ]
  },
  {
   "cell_type": "code",
   "execution_count": 26,
   "metadata": {},
   "outputs": [],
   "source": [
    "names = action_set.df['name'].values\n",
    "overview_clean = buildTable(en_nd_feat, individual, percCriteria, names, include_original=False, include_cost=False)\n",
    "overview_full = buildTable(en_nd_feat, individual, percCriteria, names, include_original=True, include_cost=True)"
   ]
  },
  {
   "cell_type": "code",
   "execution_count": 27,
   "metadata": {},
   "outputs": [
    {
     "data": {
      "image/png": "[encoded data removed]",
      "text/plain": [
       "<Figure size 1656x576 with 1 Axes>"
      ]
     },
     "metadata": {
      "needs_background": "light"
     },
     "output_type": "display_data"
    }
   ],
   "source": [
    "pltW = PlotCounterfactuals(overview_clean.iloc[:,:], individual)\n",
    "pltW.show('plot/feature_nondom_enum_crime.pdf')"
   ]
  },
  {
   "cell_type": "markdown",
   "metadata": {},
   "source": [
    "## Constrained action set"
   ]
  },
  {
   "cell_type": "code",
   "execution_count": 28,
   "metadata": {},
   "outputs": [],
   "source": [
    "constr_action_set = ActionSet(X = X)\n",
    "constr_action_set.embed_linear_clf(coefficients=coefficients)\n",
    "for feat in constr_action_set:\n",
    "    if feat.name in ['HighRiskAreas', 'FontainArea', 'ExpansionPhase', 'PopulationDensity']:\n",
    "        feat.step_type =\"absolute\"\n",
    "        feat.step_size = 1\n",
    "    elif feat.name in ['ImprovisedHouse', 'WaterSupply', 'PermanentHouse', 'SewageCollection', 'GarbageCollection', 'WomanHouseHolder', 'YoungManRate', 'Verticalization']:\n",
    "        feat.step_type =\"relative\"\n",
    "        feat.step_size = 1/6\n",
    "    else:\n",
    "        feat.step_type =\"relative\"\n",
    "        feat.step_size = 0.1\n",
    "    feat.update_grid()\n",
    "\n",
    "for feat in constr_action_set:\n",
    "    if feat.name in ['Bars', 'BusStops', 'Schools', 'ExpansionPhase']:\n",
    "        feat.mutable = False\n",
    "        feat.step_direction = 1\n",
    "    if feat.name in ['HighRiskAreas', 'FontainArea', 'ImprovisedHouse', 'TravelTime', 'Favelas']:\n",
    "        feat.mutable = True\n",
    "        feat.step_direction = -1\n",
    "    if feat.name in ['WaterSupply', 'SewageCollection', 'GarbageCollection', 'PermanentHouse', 'HighIncomeHolder']:\n",
    "        feat.mutable = True\n",
    "        feat.step_direction = 1\n",
    "    if feat.name in ['Population', 'WomanHouseHolder', 'PopulationDensity', 'YoungManRate', 'Verticalization']:\n",
    "        feat.step_direction = feat.flip_direction\n",
    "    if feat.step_direction!=feat.flip_direction:\n",
    "        feat.mutable = False\n",
    "    \n",
    "    feat.update_grid()"
   ]
  },
  {
   "cell_type": "markdown",
   "metadata": {},
   "source": [
    "## Enumerate recourse"
   ]
  },
  {
   "cell_type": "code",
   "execution_count": 29,
   "metadata": {},
   "outputs": [
    {
     "name": "stdout",
     "output_type": "stream",
     "text": [
      "Elapsed time: 0.07096275594085455\n"
     ]
    }
   ],
   "source": [
    "en_nd_feat_const = MAPOCAM(constr_action_set, individual, clf_logreg_, max_changes=3, recursive=True)\n",
    "start = time.perf_counter()\n",
    "en_nd_feat_const.fit()\n",
    "print('Elapsed time:', time.perf_counter()-start)"
   ]
  },
  {
   "cell_type": "markdown",
   "metadata": {},
   "source": [
    "## Recourses summary"
   ]
  },
  {
   "cell_type": "code",
   "execution_count": 30,
   "metadata": {},
   "outputs": [],
   "source": [
    "names = action_set.df['name'].values\n",
    "overview_clean = buildTable(en_nd_feat_const, individual, percCriteria, names, include_original=False, include_cost=False)\n",
    "overview_full = buildTable(en_nd_feat_const, individual, percCriteria, names, include_original=True, include_cost=True)"
   ]
  },
  {
   "cell_type": "code",
   "execution_count": 31,
   "metadata": {},
   "outputs": [
    {
     "data": {
      "image/png": "[encoded data removed]",
      "text/plain": [
       "<Figure size 1080x360 with 1 Axes>"
      ]
     },
     "metadata": {
      "needs_background": "light"
     },
     "output_type": "display_data"
    }
   ],
   "source": [
    "pltW = PlotCounterfactuals(overview_clean.iloc[:,:], individual)\n",
    "pltW.show('plot/feature_nondom_enum_crime_const.pdf')"
   ]
  },
  {
   "cell_type": "markdown",
   "metadata": {},
   "source": [
    "## Importance level"
   ]
  },
  {
   "cell_type": "code",
   "execution_count": 32,
   "metadata": {},
   "outputs": [
    {
     "data": {
      "image/png": "[encoded data removed]",
      "text/plain": [
       "<Figure size 216x288 with 1 Axes>"
      ]
     },
     "metadata": {
      "needs_background": "light"
     },
     "output_type": "display_data"
    }
   ],
   "source": [
    "plt.rcParams[\"figure.figsize\"] = [3.0,4.0]\n",
    "#importance =  pd.Series(abs(coefficients), index=X.columns)*X.std(axis=0)\n",
    "importance =  pd.Series(clf_logreg_.importances, index=X.columns)#*X.std(axis=0)\n",
    "colors = ['#1f78b4' for i in range(importance.size)]\n",
    "ax = importance.plot.barh(color=colors)\n",
    "ax.figure.savefig('plot/importance_logistic.eps', bbox_inches='tight')"
   ]
  },
  {
   "cell_type": "code",
   "execution_count": 33,
   "metadata": {},
   "outputs": [
    {
     "data": {
      "image/png": "[encoded data removed]",
      "text/plain": [
       "<Figure size 216x288 with 1 Axes>"
      ]
     },
     "metadata": {
      "needs_background": "light"
     },
     "output_type": "display_data"
    }
   ],
   "source": [
    "plt.rcParams[\"figure.figsize\"] = [3.0,4.0]\n",
    "importance =  pd.Series((abs(coefficients)*X.std(axis=0)), index=X.columns)\n",
    "#importance =  pd.Series(clf_logreg_.importances, index=X.columns)*X.std(axis=0)\n",
    "colors = ['#1f78b4' for i in range(importance.size)]\n",
    "ax = importance.plot.barh(color=colors)\n",
    "ax.figure.savefig('plot/importance_logistic.eps', bbox_inches='tight')"
   ]
  },
  {
   "cell_type": "code",
   "execution_count": 34,
   "metadata": {},
   "outputs": [
    {
     "data": {
      "image/png": "[encoded data removed]",
      "text/plain": [
       "<Figure size 216x288 with 1 Axes>"
      ]
     },
     "metadata": {
      "needs_background": "light"
     },
     "output_type": "display_data"
    }
   ],
   "source": [
    "#choice = np.random.choice(denied_individuals)\n",
    "#individual = X.loc[choice].values\n",
    "enum = MAPOCAM(action_set, individual, clf_logreg_, max_changes=3, recursive=True)\n",
    "enum.fit()\n",
    "over = FeatureImportance(enum, individual, action_set)\n",
    "ax = over.show('plot/importance_changes_r1.eps')"
   ]
  },
  {
   "cell_type": "code",
   "execution_count": 35,
   "metadata": {},
   "outputs": [
    {
     "name": "stdout",
     "output_type": "stream",
     "text": [
      "Choice: 355030810000012\n"
     ]
    },
    {
     "data": {
      "text/plain": [
       "<matplotlib.axes._subplots.AxesSubplot at 0x7ffae61c5610>"
      ]
     },
     "execution_count": 35,
     "metadata": {},
     "output_type": "execute_result"
    },
    {
     "data": {
      "image/png": "[encoded data removed]",
      "text/plain": [
       "<Figure size 216x288 with 1 Axes>"
      ]
     },
     "metadata": {
      "needs_background": "light"
     },
     "output_type": "display_data"
    }
   ],
   "source": [
    "choice = choices[1]\n",
    "print('Choice:', choice)\n",
    "new_individual = X.loc[choice].values\n",
    "enum = MAPOCAM(action_set, new_individual, clf_logreg_, max_changes=3, recursive=True)\n",
    "enum.fit()\n",
    "over = FeatureImportance(enum, new_individual, action_set)\n",
    "over.show('plot/importance_changes_r2.eps')"
   ]
  },
  {
   "cell_type": "code",
   "execution_count": 36,
   "metadata": {},
   "outputs": [
    {
     "name": "stdout",
     "output_type": "stream",
     "text": [
      "Choice: 355030862000053\n"
     ]
    },
    {
     "data": {
      "text/plain": [
       "<matplotlib.axes._subplots.AxesSubplot at 0x7ffae60402d0>"
      ]
     },
     "execution_count": 36,
     "metadata": {},
     "output_type": "execute_result"
    },
    {
     "data": {
      "image/png": "[encoded data removed]",
      "text/plain": [
       "<Figure size 216x288 with 1 Axes>"
      ]
     },
     "metadata": {
      "needs_background": "light"
     },
     "output_type": "display_data"
    }
   ],
   "source": [
    "choice = choices[2]\n",
    "print('Choice:', choice)\n",
    "new_individual = X.loc[choice].values\n",
    "enum = MAPOCAM(action_set, new_individual, clf_logreg_, max_changes=3, recursive=True)\n",
    "enum.fit()\n",
    "over = FeatureImportance(enum, new_individual, action_set)\n",
    "over.show('plot/importance_changes_r3.eps')"
   ]
  }
 ],
 "metadata": {
  "kernelspec": {
   "display_name": "Python 3",
   "language": "python",
   "name": "python3"
  },
  "language_info": {
   "codemirror_mode": {
    "name": "ipython",
    "version": 3
   },
   "file_extension": ".py",
   "mimetype": "text/x-python",
   "name": "python",
   "nbconvert_exporter": "python",
   "pygments_lexer": "ipython3",
   "version": "3.7.7"
  }
 },
 "nbformat": 4,
 "nbformat_minor": 4
}
